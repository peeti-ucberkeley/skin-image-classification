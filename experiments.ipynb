{
 "cells": [
  {
   "cell_type": "code",
   "execution_count": 1,
   "metadata": {
    "collapsed": true
   },
   "outputs": [
    {
     "name": "stderr",
     "output_type": "stream",
     "text": [
      "2022-11-23 07:48:18.742186: I tensorflow/core/platform/cpu_feature_guard.cc:193] This TensorFlow binary is optimized with oneAPI Deep Neural Network Library (oneDNN) to use the following CPU instructions in performance-critical operations:  AVX2 FMA\n",
      "To enable them in other operations, rebuild TensorFlow with the appropriate compiler flags.\n",
      "2022-11-23 07:48:19.074951: E tensorflow/stream_executor/cuda/cuda_blas.cc:2981] Unable to register cuBLAS factory: Attempting to register factory for plugin cuBLAS when one has already been registered\n",
      "2022-11-23 07:48:19.836155: W tensorflow/stream_executor/platform/default/dso_loader.cc:64] Could not load dynamic library 'libnvinfer.so.7'; dlerror: libnvinfer.so.7: cannot open shared object file: No such file or directory\n",
      "2022-11-23 07:48:19.836230: W tensorflow/stream_executor/platform/default/dso_loader.cc:64] Could not load dynamic library 'libnvinfer_plugin.so.7'; dlerror: libnvinfer_plugin.so.7: cannot open shared object file: No such file or directory\n",
      "2022-11-23 07:48:19.836236: W tensorflow/compiler/tf2tensorrt/utils/py_utils.cc:38] TF-TRT Warning: Cannot dlopen some TensorRT libraries. If you would like to use Nvidia GPU with TensorRT, please make sure the missing libraries mentioned above are installed properly.\n",
      "2022-11-23 07:48:20.578840: I tensorflow/stream_executor/cuda/cuda_gpu_executor.cc:980] successful NUMA node read from SysFS had negative value (-1), but there must be at least one NUMA node, so returning NUMA node zero\n",
      "2022-11-23 07:48:20.579014: I tensorflow/stream_executor/cuda/cuda_gpu_executor.cc:980] successful NUMA node read from SysFS had negative value (-1), but there must be at least one NUMA node, so returning NUMA node zero\n",
      "2022-11-23 07:48:20.603513: W tensorflow/stream_executor/platform/default/dso_loader.cc:64] Could not load dynamic library 'libcudnn.so.8'; dlerror: libcudnn.so.8: cannot open shared object file: No such file or directory\n",
      "2022-11-23 07:48:20.603528: W tensorflow/core/common_runtime/gpu/gpu_device.cc:1934] Cannot dlopen some GPU libraries. Please make sure the missing libraries mentioned above are installed properly if you would like to use GPU. Follow the guide at https://www.tensorflow.org/install/gpu for how to download and setup the required libraries for your platform.\n",
      "Skipping registering GPU devices...\n"
     ]
    }
   ],
   "source": [
    "import copy\n",
    "import random\n",
    "import os\n",
    "import time\n",
    "\n",
    "from IPython.display import clear_output, display, HTML\n",
    "\n",
    "from collections import Counter\n",
    "from PIL import Image\n",
    "\n",
    "import numpy as np\n",
    "import pandas as pd\n",
    "pd.options.mode.chained_assignment = None\n",
    "\n",
    "import matplotlib.pyplot as plt\n",
    "import matplotlib.image as mpimg\n",
    "import seaborn as sns\n",
    "sns.set(style=\"darkgrid\")\n",
    "\n",
    "import tensorflow as tf\n",
    "\n",
    "os.environ[\"CUDA_VISIBLE_DEVICES\"] = ','.join(\n",
    "    str(i) for i in range(len(tf.config.experimental.list_physical_devices('GPU'))))\n",
    "os.environ[\"TF_GPU_ALLOCATOR\"] = \"cuda_malloc_async\"\n",
    "for i in range(len(tf.config.experimental.list_physical_devices('GPU'))):\n",
    "    tf.config.experimental.set_memory_growth(tf.config.experimental.list_physical_devices('GPU')[i], True)\n",
    "\n",
    "keras = tf.keras\n",
    "# from keras.layers import Conv2D, Dense, Dropout, Flatten, MaxPool2D\n",
    "from keras.utils import array_to_img, img_to_array, load_img\n",
    "\n",
    "from sklearn.model_selection import train_test_split\n",
    "\n",
    "# https://dataverse.harvard.edu/dataset.xhtml?persistentId=doi:10.7910/DVN/DBW86T"
   ]
  },
  {
   "cell_type": "code",
   "execution_count": 2,
   "metadata": {
    "collapsed": false
   },
   "outputs": [],
   "source": [
    "# Constants\n",
    "BASE_PATH = \"../src/data\"\n",
    "DATA_PATH = f\"{BASE_PATH}/external\"\n",
    "STATE_PATH = f\"{BASE_PATH}/state\"\n",
    "IMAGE_PATH = f'{DATA_PATH}/ISIC_2019_Training_Input'\n",
    "IMAGE_TYPE = 'jpg'\n",
    "MODELS_PATH = f\"{BASE_PATH}/models\"\n",
    "TARGET_SIZE = (224, 224)\n",
    "CHANNELS = 3\n",
    "CONTRAST_FACTOR = 3  # 2 is performing better and so choosing that instead\n",
    "# CONTRAST_FACTOR = 2\n",
    "DELTA = 0.3\n",
    "IS_FLIP_ON = True\n",
    "RANDOM_STATE = 42\n",
    "# KERNEL_SIZE = (5, 5)  # decreasing seeing 3,3 doing better\n",
    "KERNEL_SIZE = (3, 3)\n",
    "# LEARNING_RATE = 0.001  # decreasing seeing too much ripple effect\n",
    "LEARNING_RATE = 0.0005\n",
    "BATCH_SIZE = 32\n",
    "TEST_SIZE = 0.2\n",
    "# EPOCHS = 5  # validation accuracy seems to increase with the new learning rate and so increasing the number of epochs\n",
    "EPOCHS = 25"
   ]
  },
  {
   "cell_type": "code",
   "execution_count": 3,
   "metadata": {
    "collapsed": false
   },
   "outputs": [],
   "source": [
    "def reset_random_seeds(seed=RANDOM_STATE):\n",
    "    os.environ['PYTHONHASHSEED'] = str(seed)\n",
    "    tf.random.set_seed(seed)\n",
    "    np.random.seed(seed)\n",
    "    random.seed(seed)\n",
    "\n",
    "def clear_session():\n",
    "    tf.keras.backend.clear_session()"
   ]
  },
  {
   "cell_type": "code",
   "execution_count": 4,
   "metadata": {
    "collapsed": false
   },
   "outputs": [],
   "source": [
    "df_metadata = pd.read_csv(f'{DATA_PATH}/ISIC_2019_Training_Metadata.csv')\n",
    "df_truth = pd.read_csv(f'{DATA_PATH}/ISIC_2019_Training_GroundTruth.csv')"
   ]
  },
  {
   "cell_type": "code",
   "execution_count": 5,
   "metadata": {
    "collapsed": false
   },
   "outputs": [
    {
     "name": "stdout",
     "output_type": "stream",
     "text": [
      "Index(['MEL', 'NV', 'BCC', 'AK', 'BKL', 'DF', 'VASC', 'SCC', 'UNK'], dtype='object')\n",
      "{0: 'MEL', 1: 'NV', 2: 'BCC', 3: 'AK', 4: 'BKL', 5: 'DF', 6: 'VASC', 7: 'SCC', 8: 'UNK'}\n"
     ]
    }
   ],
   "source": [
    "labels = df_truth.columns\n",
    "labels = labels[1:]\n",
    "print(labels)\n",
    "label_mapping = {i: label for i, label in enumerate(labels)}\n",
    "print(label_mapping)"
   ]
  },
  {
   "cell_type": "code",
   "execution_count": 6,
   "metadata": {
    "collapsed": false
   },
   "outputs": [
    {
     "name": "stdout",
     "output_type": "stream",
     "text": [
      "Dense Labels...\n"
     ]
    },
    {
     "data": {
      "text/plain": "array([[0., 1., 0., ..., 0., 0., 0.],\n       [0., 1., 0., ..., 0., 0., 0.],\n       [1., 0., 0., ..., 0., 0., 0.],\n       ...,\n       [1., 0., 0., ..., 0., 0., 0.],\n       [0., 1., 0., ..., 0., 0., 0.],\n       [0., 0., 0., ..., 0., 0., 0.]])"
     },
     "metadata": {},
     "output_type": "display_data"
    },
    {
     "name": "stdout",
     "output_type": "stream",
     "text": [
      "Truth Labels...\n"
     ]
    },
    {
     "data": {
      "text/plain": "array([1, 1, 0, ..., 0, 1, 4])"
     },
     "metadata": {},
     "output_type": "display_data"
    }
   ],
   "source": [
    "dense_labels = df_truth[labels]\n",
    "dense_labels = dense_labels.values\n",
    "print('Dense Labels...')\n",
    "display(dense_labels)\n",
    "truth_labels = np.argmax(dense_labels, axis=-1)\n",
    "print('Truth Labels...')\n",
    "display(truth_labels)"
   ]
  },
  {
   "cell_type": "code",
   "execution_count": 7,
   "metadata": {
    "collapsed": false
   },
   "outputs": [
    {
     "data": {
      "text/plain": "              image  MEL   NV  BCC   AK  BKL   DF  VASC  SCC  UNK  label\n0      ISIC_0000000  0.0  1.0  0.0  0.0  0.0  0.0   0.0  0.0  0.0      1\n1      ISIC_0000001  0.0  1.0  0.0  0.0  0.0  0.0   0.0  0.0  0.0      1\n2      ISIC_0000002  1.0  0.0  0.0  0.0  0.0  0.0   0.0  0.0  0.0      0\n3      ISIC_0000003  0.0  1.0  0.0  0.0  0.0  0.0   0.0  0.0  0.0      1\n4      ISIC_0000004  1.0  0.0  0.0  0.0  0.0  0.0   0.0  0.0  0.0      0\n...             ...  ...  ...  ...  ...  ...  ...   ...  ...  ...    ...\n25326  ISIC_0073247  0.0  0.0  1.0  0.0  0.0  0.0   0.0  0.0  0.0      2\n25327  ISIC_0073248  0.0  0.0  0.0  0.0  1.0  0.0   0.0  0.0  0.0      4\n25328  ISIC_0073249  1.0  0.0  0.0  0.0  0.0  0.0   0.0  0.0  0.0      0\n25329  ISIC_0073251  0.0  1.0  0.0  0.0  0.0  0.0   0.0  0.0  0.0      1\n25330  ISIC_0073254  0.0  0.0  0.0  0.0  1.0  0.0   0.0  0.0  0.0      4\n\n[25331 rows x 11 columns]",
      "text/html": "<div>\n<style scoped>\n    .dataframe tbody tr th:only-of-type {\n        vertical-align: middle;\n    }\n\n    .dataframe tbody tr th {\n        vertical-align: top;\n    }\n\n    .dataframe thead th {\n        text-align: right;\n    }\n</style>\n<table border=\"1\" class=\"dataframe\">\n  <thead>\n    <tr style=\"text-align: right;\">\n      <th></th>\n      <th>image</th>\n      <th>MEL</th>\n      <th>NV</th>\n      <th>BCC</th>\n      <th>AK</th>\n      <th>BKL</th>\n      <th>DF</th>\n      <th>VASC</th>\n      <th>SCC</th>\n      <th>UNK</th>\n      <th>label</th>\n    </tr>\n  </thead>\n  <tbody>\n    <tr>\n      <th>0</th>\n      <td>ISIC_0000000</td>\n      <td>0.0</td>\n      <td>1.0</td>\n      <td>0.0</td>\n      <td>0.0</td>\n      <td>0.0</td>\n      <td>0.0</td>\n      <td>0.0</td>\n      <td>0.0</td>\n      <td>0.0</td>\n      <td>1</td>\n    </tr>\n    <tr>\n      <th>1</th>\n      <td>ISIC_0000001</td>\n      <td>0.0</td>\n      <td>1.0</td>\n      <td>0.0</td>\n      <td>0.0</td>\n      <td>0.0</td>\n      <td>0.0</td>\n      <td>0.0</td>\n      <td>0.0</td>\n      <td>0.0</td>\n      <td>1</td>\n    </tr>\n    <tr>\n      <th>2</th>\n      <td>ISIC_0000002</td>\n      <td>1.0</td>\n      <td>0.0</td>\n      <td>0.0</td>\n      <td>0.0</td>\n      <td>0.0</td>\n      <td>0.0</td>\n      <td>0.0</td>\n      <td>0.0</td>\n      <td>0.0</td>\n      <td>0</td>\n    </tr>\n    <tr>\n      <th>3</th>\n      <td>ISIC_0000003</td>\n      <td>0.0</td>\n      <td>1.0</td>\n      <td>0.0</td>\n      <td>0.0</td>\n      <td>0.0</td>\n      <td>0.0</td>\n      <td>0.0</td>\n      <td>0.0</td>\n      <td>0.0</td>\n      <td>1</td>\n    </tr>\n    <tr>\n      <th>4</th>\n      <td>ISIC_0000004</td>\n      <td>1.0</td>\n      <td>0.0</td>\n      <td>0.0</td>\n      <td>0.0</td>\n      <td>0.0</td>\n      <td>0.0</td>\n      <td>0.0</td>\n      <td>0.0</td>\n      <td>0.0</td>\n      <td>0</td>\n    </tr>\n    <tr>\n      <th>...</th>\n      <td>...</td>\n      <td>...</td>\n      <td>...</td>\n      <td>...</td>\n      <td>...</td>\n      <td>...</td>\n      <td>...</td>\n      <td>...</td>\n      <td>...</td>\n      <td>...</td>\n      <td>...</td>\n    </tr>\n    <tr>\n      <th>25326</th>\n      <td>ISIC_0073247</td>\n      <td>0.0</td>\n      <td>0.0</td>\n      <td>1.0</td>\n      <td>0.0</td>\n      <td>0.0</td>\n      <td>0.0</td>\n      <td>0.0</td>\n      <td>0.0</td>\n      <td>0.0</td>\n      <td>2</td>\n    </tr>\n    <tr>\n      <th>25327</th>\n      <td>ISIC_0073248</td>\n      <td>0.0</td>\n      <td>0.0</td>\n      <td>0.0</td>\n      <td>0.0</td>\n      <td>1.0</td>\n      <td>0.0</td>\n      <td>0.0</td>\n      <td>0.0</td>\n      <td>0.0</td>\n      <td>4</td>\n    </tr>\n    <tr>\n      <th>25328</th>\n      <td>ISIC_0073249</td>\n      <td>1.0</td>\n      <td>0.0</td>\n      <td>0.0</td>\n      <td>0.0</td>\n      <td>0.0</td>\n      <td>0.0</td>\n      <td>0.0</td>\n      <td>0.0</td>\n      <td>0.0</td>\n      <td>0</td>\n    </tr>\n    <tr>\n      <th>25329</th>\n      <td>ISIC_0073251</td>\n      <td>0.0</td>\n      <td>1.0</td>\n      <td>0.0</td>\n      <td>0.0</td>\n      <td>0.0</td>\n      <td>0.0</td>\n      <td>0.0</td>\n      <td>0.0</td>\n      <td>0.0</td>\n      <td>1</td>\n    </tr>\n    <tr>\n      <th>25330</th>\n      <td>ISIC_0073254</td>\n      <td>0.0</td>\n      <td>0.0</td>\n      <td>0.0</td>\n      <td>0.0</td>\n      <td>1.0</td>\n      <td>0.0</td>\n      <td>0.0</td>\n      <td>0.0</td>\n      <td>0.0</td>\n      <td>4</td>\n    </tr>\n  </tbody>\n</table>\n<p>25331 rows × 11 columns</p>\n</div>"
     },
     "metadata": {},
     "output_type": "display_data"
    }
   ],
   "source": [
    "df_truth['label'] = truth_labels.tolist()\n",
    "display(df_truth)"
   ]
  },
  {
   "cell_type": "code",
   "execution_count": 8,
   "metadata": {
    "collapsed": false
   },
   "outputs": [
    {
     "data": {
      "text/plain": "              image  age_approx anatom_site_general    lesion_id     sex  MEL  \\\n0      ISIC_0000000        55.0      anterior torso          NaN  female  0.0   \n1      ISIC_0000001        30.0      anterior torso          NaN  female  0.0   \n2      ISIC_0000002        60.0     upper extremity          NaN  female  1.0   \n3      ISIC_0000003        30.0     upper extremity          NaN    male  0.0   \n4      ISIC_0000004        80.0     posterior torso          NaN    male  1.0   \n...             ...         ...                 ...          ...     ...  ...   \n25326  ISIC_0073247        85.0           head/neck  BCN_0003925  female  0.0   \n25327  ISIC_0073248        65.0      anterior torso  BCN_0001819    male  0.0   \n25328  ISIC_0073249        70.0     lower extremity  BCN_0001085    male  1.0   \n25329  ISIC_0073251        55.0         palms/soles  BCN_0002083  female  0.0   \n25330  ISIC_0073254        50.0     upper extremity  BCN_0001079    male  0.0   \n\n        NV  BCC   AK  BKL   DF  VASC  SCC  UNK  label  \n0      1.0  0.0  0.0  0.0  0.0   0.0  0.0  0.0      1  \n1      1.0  0.0  0.0  0.0  0.0   0.0  0.0  0.0      1  \n2      0.0  0.0  0.0  0.0  0.0   0.0  0.0  0.0      0  \n3      1.0  0.0  0.0  0.0  0.0   0.0  0.0  0.0      1  \n4      0.0  0.0  0.0  0.0  0.0   0.0  0.0  0.0      0  \n...    ...  ...  ...  ...  ...   ...  ...  ...    ...  \n25326  0.0  1.0  0.0  0.0  0.0   0.0  0.0  0.0      2  \n25327  0.0  0.0  0.0  1.0  0.0   0.0  0.0  0.0      4  \n25328  0.0  0.0  0.0  0.0  0.0   0.0  0.0  0.0      0  \n25329  1.0  0.0  0.0  0.0  0.0   0.0  0.0  0.0      1  \n25330  0.0  0.0  0.0  1.0  0.0   0.0  0.0  0.0      4  \n\n[25331 rows x 15 columns]",
      "text/html": "<div>\n<style scoped>\n    .dataframe tbody tr th:only-of-type {\n        vertical-align: middle;\n    }\n\n    .dataframe tbody tr th {\n        vertical-align: top;\n    }\n\n    .dataframe thead th {\n        text-align: right;\n    }\n</style>\n<table border=\"1\" class=\"dataframe\">\n  <thead>\n    <tr style=\"text-align: right;\">\n      <th></th>\n      <th>image</th>\n      <th>age_approx</th>\n      <th>anatom_site_general</th>\n      <th>lesion_id</th>\n      <th>sex</th>\n      <th>MEL</th>\n      <th>NV</th>\n      <th>BCC</th>\n      <th>AK</th>\n      <th>BKL</th>\n      <th>DF</th>\n      <th>VASC</th>\n      <th>SCC</th>\n      <th>UNK</th>\n      <th>label</th>\n    </tr>\n  </thead>\n  <tbody>\n    <tr>\n      <th>0</th>\n      <td>ISIC_0000000</td>\n      <td>55.0</td>\n      <td>anterior torso</td>\n      <td>NaN</td>\n      <td>female</td>\n      <td>0.0</td>\n      <td>1.0</td>\n      <td>0.0</td>\n      <td>0.0</td>\n      <td>0.0</td>\n      <td>0.0</td>\n      <td>0.0</td>\n      <td>0.0</td>\n      <td>0.0</td>\n      <td>1</td>\n    </tr>\n    <tr>\n      <th>1</th>\n      <td>ISIC_0000001</td>\n      <td>30.0</td>\n      <td>anterior torso</td>\n      <td>NaN</td>\n      <td>female</td>\n      <td>0.0</td>\n      <td>1.0</td>\n      <td>0.0</td>\n      <td>0.0</td>\n      <td>0.0</td>\n      <td>0.0</td>\n      <td>0.0</td>\n      <td>0.0</td>\n      <td>0.0</td>\n      <td>1</td>\n    </tr>\n    <tr>\n      <th>2</th>\n      <td>ISIC_0000002</td>\n      <td>60.0</td>\n      <td>upper extremity</td>\n      <td>NaN</td>\n      <td>female</td>\n      <td>1.0</td>\n      <td>0.0</td>\n      <td>0.0</td>\n      <td>0.0</td>\n      <td>0.0</td>\n      <td>0.0</td>\n      <td>0.0</td>\n      <td>0.0</td>\n      <td>0.0</td>\n      <td>0</td>\n    </tr>\n    <tr>\n      <th>3</th>\n      <td>ISIC_0000003</td>\n      <td>30.0</td>\n      <td>upper extremity</td>\n      <td>NaN</td>\n      <td>male</td>\n      <td>0.0</td>\n      <td>1.0</td>\n      <td>0.0</td>\n      <td>0.0</td>\n      <td>0.0</td>\n      <td>0.0</td>\n      <td>0.0</td>\n      <td>0.0</td>\n      <td>0.0</td>\n      <td>1</td>\n    </tr>\n    <tr>\n      <th>4</th>\n      <td>ISIC_0000004</td>\n      <td>80.0</td>\n      <td>posterior torso</td>\n      <td>NaN</td>\n      <td>male</td>\n      <td>1.0</td>\n      <td>0.0</td>\n      <td>0.0</td>\n      <td>0.0</td>\n      <td>0.0</td>\n      <td>0.0</td>\n      <td>0.0</td>\n      <td>0.0</td>\n      <td>0.0</td>\n      <td>0</td>\n    </tr>\n    <tr>\n      <th>...</th>\n      <td>...</td>\n      <td>...</td>\n      <td>...</td>\n      <td>...</td>\n      <td>...</td>\n      <td>...</td>\n      <td>...</td>\n      <td>...</td>\n      <td>...</td>\n      <td>...</td>\n      <td>...</td>\n      <td>...</td>\n      <td>...</td>\n      <td>...</td>\n      <td>...</td>\n    </tr>\n    <tr>\n      <th>25326</th>\n      <td>ISIC_0073247</td>\n      <td>85.0</td>\n      <td>head/neck</td>\n      <td>BCN_0003925</td>\n      <td>female</td>\n      <td>0.0</td>\n      <td>0.0</td>\n      <td>1.0</td>\n      <td>0.0</td>\n      <td>0.0</td>\n      <td>0.0</td>\n      <td>0.0</td>\n      <td>0.0</td>\n      <td>0.0</td>\n      <td>2</td>\n    </tr>\n    <tr>\n      <th>25327</th>\n      <td>ISIC_0073248</td>\n      <td>65.0</td>\n      <td>anterior torso</td>\n      <td>BCN_0001819</td>\n      <td>male</td>\n      <td>0.0</td>\n      <td>0.0</td>\n      <td>0.0</td>\n      <td>0.0</td>\n      <td>1.0</td>\n      <td>0.0</td>\n      <td>0.0</td>\n      <td>0.0</td>\n      <td>0.0</td>\n      <td>4</td>\n    </tr>\n    <tr>\n      <th>25328</th>\n      <td>ISIC_0073249</td>\n      <td>70.0</td>\n      <td>lower extremity</td>\n      <td>BCN_0001085</td>\n      <td>male</td>\n      <td>1.0</td>\n      <td>0.0</td>\n      <td>0.0</td>\n      <td>0.0</td>\n      <td>0.0</td>\n      <td>0.0</td>\n      <td>0.0</td>\n      <td>0.0</td>\n      <td>0.0</td>\n      <td>0</td>\n    </tr>\n    <tr>\n      <th>25329</th>\n      <td>ISIC_0073251</td>\n      <td>55.0</td>\n      <td>palms/soles</td>\n      <td>BCN_0002083</td>\n      <td>female</td>\n      <td>0.0</td>\n      <td>1.0</td>\n      <td>0.0</td>\n      <td>0.0</td>\n      <td>0.0</td>\n      <td>0.0</td>\n      <td>0.0</td>\n      <td>0.0</td>\n      <td>0.0</td>\n      <td>1</td>\n    </tr>\n    <tr>\n      <th>25330</th>\n      <td>ISIC_0073254</td>\n      <td>50.0</td>\n      <td>upper extremity</td>\n      <td>BCN_0001079</td>\n      <td>male</td>\n      <td>0.0</td>\n      <td>0.0</td>\n      <td>0.0</td>\n      <td>0.0</td>\n      <td>1.0</td>\n      <td>0.0</td>\n      <td>0.0</td>\n      <td>0.0</td>\n      <td>0.0</td>\n      <td>4</td>\n    </tr>\n  </tbody>\n</table>\n<p>25331 rows × 15 columns</p>\n</div>"
     },
     "metadata": {},
     "output_type": "display_data"
    }
   ],
   "source": [
    "df_joined = df_metadata.join(df_truth.set_index('image'), on='image', how='left')\n",
    "display(df_joined)"
   ]
  },
  {
   "cell_type": "code",
   "execution_count": 9,
   "metadata": {
    "collapsed": false
   },
   "outputs": [
    {
     "name": "stdout",
     "output_type": "stream",
     "text": [
      "Count of null values in anatom_site_general column before null fill: 2631\n",
      "Count of null values in anatom_site_general column after null fill: 0\n"
     ]
    }
   ],
   "source": [
    "# Site details add more information to model and so fill with unknown if not available\n",
    "print(f\"Count of null values in anatom_site_general column before null fill: {sum(df_joined['anatom_site_general'].isnull())}\")\n",
    "df_joined['anatom_site_general'] = df_joined['anatom_site_general'].fillna('unknown')\n",
    "print(f\"Count of null values in anatom_site_general column after null fill: {sum(df_joined['anatom_site_general'].isnull())}\")"
   ]
  },
  {
   "cell_type": "code",
   "execution_count": 10,
   "metadata": {
    "collapsed": false
   },
   "outputs": [
    {
     "name": "stdout",
     "output_type": "stream",
     "text": [
      "Count of null values in sex column before null fill: 384\n",
      "Count of null values in sex column after null fill: 0\n"
     ]
    }
   ],
   "source": [
    "# Sex details add more information to model and so fill with unknown if not available\n",
    "print(f\"Count of null values in sex column before null fill: {sum(df_joined['sex'].isnull())}\")\n",
    "df_joined['sex'] = df_joined['sex'].fillna('unknown')\n",
    "print(f\"Count of null values in sex column after null fill: {sum(df_joined['sex'].isnull())}\")"
   ]
  },
  {
   "cell_type": "code",
   "execution_count": 11,
   "metadata": {
    "collapsed": false
   },
   "outputs": [
    {
     "name": "stdout",
     "output_type": "stream",
     "text": [
      "Observations in cleaned dataframe before na/inf/zero remove: 24894\n",
      "Observations in cleaned dataframe after na/inf/zero remove: 24840\n"
     ]
    }
   ],
   "source": [
    "# Age is important for the model and so we remove rows with na/inf/zero values\n",
    "df_cleaned = df_joined[~df_joined['age_approx'].isnull()]\n",
    "print(f\"Observations in cleaned dataframe before na/inf/zero remove: {len(df_cleaned)}\")\n",
    "df_cleaned.replace([np.inf, -np.inf], np.nan, inplace=True)\n",
    "df_cleaned.dropna(how=\"all\", inplace=True)\n",
    "df_cleaned = df_cleaned[df_cleaned['age_approx'] > 0]\n",
    "print(f\"Observations in cleaned dataframe after na/inf/zero remove: {len(df_cleaned)}\")"
   ]
  },
  {
   "cell_type": "code",
   "execution_count": 12,
   "metadata": {
    "collapsed": false
   },
   "outputs": [],
   "source": [
    "# Convert age column to uint8 for resampling\n",
    "# df_cleaned['age_approx'] = df_cleaned['age_approx'].astype(np.uint8)\n",
    "# display(df_cleaned)"
   ]
  },
  {
   "cell_type": "code",
   "execution_count": 13,
   "metadata": {
    "collapsed": false
   },
   "outputs": [
    {
     "data": {
      "text/plain": "              image  age_approx anatom_site_general    lesion_id     sex  MEL  \\\n0      ISIC_0000000        55.0      anterior torso          NaN  female  0.0   \n1      ISIC_0000001        30.0      anterior torso          NaN  female  0.0   \n2      ISIC_0000002        60.0     upper extremity          NaN  female  1.0   \n3      ISIC_0000003        30.0     upper extremity          NaN    male  0.0   \n4      ISIC_0000004        80.0     posterior torso          NaN    male  1.0   \n...             ...         ...                 ...          ...     ...  ...   \n25326  ISIC_0073247        85.0           head/neck  BCN_0003925  female  0.0   \n25327  ISIC_0073248        65.0      anterior torso  BCN_0001819    male  0.0   \n25328  ISIC_0073249        70.0     lower extremity  BCN_0001085    male  1.0   \n25329  ISIC_0073251        55.0         palms/soles  BCN_0002083  female  0.0   \n25330  ISIC_0073254        50.0     upper extremity  BCN_0001079    male  0.0   \n\n        NV  BCC   AK  BKL   DF  VASC  SCC  UNK  label anatomy_site  \n0      1.0  0.0  0.0  0.0  0.0   0.0  0.0  0.0      1        torso  \n1      1.0  0.0  0.0  0.0  0.0   0.0  0.0  0.0      1        torso  \n2      0.0  0.0  0.0  0.0  0.0   0.0  0.0  0.0      0    extremity  \n3      1.0  0.0  0.0  0.0  0.0   0.0  0.0  0.0      1    extremity  \n4      0.0  0.0  0.0  0.0  0.0   0.0  0.0  0.0      0        torso  \n...    ...  ...  ...  ...  ...   ...  ...  ...    ...          ...  \n25326  0.0  1.0  0.0  0.0  0.0   0.0  0.0  0.0      2    head/neck  \n25327  0.0  0.0  0.0  1.0  0.0   0.0  0.0  0.0      4        torso  \n25328  0.0  0.0  0.0  0.0  0.0   0.0  0.0  0.0      0    extremity  \n25329  1.0  0.0  0.0  0.0  0.0   0.0  0.0  0.0      1  palms/soles  \n25330  0.0  0.0  0.0  1.0  0.0   0.0  0.0  0.0      4    extremity  \n\n[24840 rows x 16 columns]",
      "text/html": "<div>\n<style scoped>\n    .dataframe tbody tr th:only-of-type {\n        vertical-align: middle;\n    }\n\n    .dataframe tbody tr th {\n        vertical-align: top;\n    }\n\n    .dataframe thead th {\n        text-align: right;\n    }\n</style>\n<table border=\"1\" class=\"dataframe\">\n  <thead>\n    <tr style=\"text-align: right;\">\n      <th></th>\n      <th>image</th>\n      <th>age_approx</th>\n      <th>anatom_site_general</th>\n      <th>lesion_id</th>\n      <th>sex</th>\n      <th>MEL</th>\n      <th>NV</th>\n      <th>BCC</th>\n      <th>AK</th>\n      <th>BKL</th>\n      <th>DF</th>\n      <th>VASC</th>\n      <th>SCC</th>\n      <th>UNK</th>\n      <th>label</th>\n      <th>anatomy_site</th>\n    </tr>\n  </thead>\n  <tbody>\n    <tr>\n      <th>0</th>\n      <td>ISIC_0000000</td>\n      <td>55.0</td>\n      <td>anterior torso</td>\n      <td>NaN</td>\n      <td>female</td>\n      <td>0.0</td>\n      <td>1.0</td>\n      <td>0.0</td>\n      <td>0.0</td>\n      <td>0.0</td>\n      <td>0.0</td>\n      <td>0.0</td>\n      <td>0.0</td>\n      <td>0.0</td>\n      <td>1</td>\n      <td>torso</td>\n    </tr>\n    <tr>\n      <th>1</th>\n      <td>ISIC_0000001</td>\n      <td>30.0</td>\n      <td>anterior torso</td>\n      <td>NaN</td>\n      <td>female</td>\n      <td>0.0</td>\n      <td>1.0</td>\n      <td>0.0</td>\n      <td>0.0</td>\n      <td>0.0</td>\n      <td>0.0</td>\n      <td>0.0</td>\n      <td>0.0</td>\n      <td>0.0</td>\n      <td>1</td>\n      <td>torso</td>\n    </tr>\n    <tr>\n      <th>2</th>\n      <td>ISIC_0000002</td>\n      <td>60.0</td>\n      <td>upper extremity</td>\n      <td>NaN</td>\n      <td>female</td>\n      <td>1.0</td>\n      <td>0.0</td>\n      <td>0.0</td>\n      <td>0.0</td>\n      <td>0.0</td>\n      <td>0.0</td>\n      <td>0.0</td>\n      <td>0.0</td>\n      <td>0.0</td>\n      <td>0</td>\n      <td>extremity</td>\n    </tr>\n    <tr>\n      <th>3</th>\n      <td>ISIC_0000003</td>\n      <td>30.0</td>\n      <td>upper extremity</td>\n      <td>NaN</td>\n      <td>male</td>\n      <td>0.0</td>\n      <td>1.0</td>\n      <td>0.0</td>\n      <td>0.0</td>\n      <td>0.0</td>\n      <td>0.0</td>\n      <td>0.0</td>\n      <td>0.0</td>\n      <td>0.0</td>\n      <td>1</td>\n      <td>extremity</td>\n    </tr>\n    <tr>\n      <th>4</th>\n      <td>ISIC_0000004</td>\n      <td>80.0</td>\n      <td>posterior torso</td>\n      <td>NaN</td>\n      <td>male</td>\n      <td>1.0</td>\n      <td>0.0</td>\n      <td>0.0</td>\n      <td>0.0</td>\n      <td>0.0</td>\n      <td>0.0</td>\n      <td>0.0</td>\n      <td>0.0</td>\n      <td>0.0</td>\n      <td>0</td>\n      <td>torso</td>\n    </tr>\n    <tr>\n      <th>...</th>\n      <td>...</td>\n      <td>...</td>\n      <td>...</td>\n      <td>...</td>\n      <td>...</td>\n      <td>...</td>\n      <td>...</td>\n      <td>...</td>\n      <td>...</td>\n      <td>...</td>\n      <td>...</td>\n      <td>...</td>\n      <td>...</td>\n      <td>...</td>\n      <td>...</td>\n      <td>...</td>\n    </tr>\n    <tr>\n      <th>25326</th>\n      <td>ISIC_0073247</td>\n      <td>85.0</td>\n      <td>head/neck</td>\n      <td>BCN_0003925</td>\n      <td>female</td>\n      <td>0.0</td>\n      <td>0.0</td>\n      <td>1.0</td>\n      <td>0.0</td>\n      <td>0.0</td>\n      <td>0.0</td>\n      <td>0.0</td>\n      <td>0.0</td>\n      <td>0.0</td>\n      <td>2</td>\n      <td>head/neck</td>\n    </tr>\n    <tr>\n      <th>25327</th>\n      <td>ISIC_0073248</td>\n      <td>65.0</td>\n      <td>anterior torso</td>\n      <td>BCN_0001819</td>\n      <td>male</td>\n      <td>0.0</td>\n      <td>0.0</td>\n      <td>0.0</td>\n      <td>0.0</td>\n      <td>1.0</td>\n      <td>0.0</td>\n      <td>0.0</td>\n      <td>0.0</td>\n      <td>0.0</td>\n      <td>4</td>\n      <td>torso</td>\n    </tr>\n    <tr>\n      <th>25328</th>\n      <td>ISIC_0073249</td>\n      <td>70.0</td>\n      <td>lower extremity</td>\n      <td>BCN_0001085</td>\n      <td>male</td>\n      <td>1.0</td>\n      <td>0.0</td>\n      <td>0.0</td>\n      <td>0.0</td>\n      <td>0.0</td>\n      <td>0.0</td>\n      <td>0.0</td>\n      <td>0.0</td>\n      <td>0.0</td>\n      <td>0</td>\n      <td>extremity</td>\n    </tr>\n    <tr>\n      <th>25329</th>\n      <td>ISIC_0073251</td>\n      <td>55.0</td>\n      <td>palms/soles</td>\n      <td>BCN_0002083</td>\n      <td>female</td>\n      <td>0.0</td>\n      <td>1.0</td>\n      <td>0.0</td>\n      <td>0.0</td>\n      <td>0.0</td>\n      <td>0.0</td>\n      <td>0.0</td>\n      <td>0.0</td>\n      <td>0.0</td>\n      <td>1</td>\n      <td>palms/soles</td>\n    </tr>\n    <tr>\n      <th>25330</th>\n      <td>ISIC_0073254</td>\n      <td>50.0</td>\n      <td>upper extremity</td>\n      <td>BCN_0001079</td>\n      <td>male</td>\n      <td>0.0</td>\n      <td>0.0</td>\n      <td>0.0</td>\n      <td>0.0</td>\n      <td>1.0</td>\n      <td>0.0</td>\n      <td>0.0</td>\n      <td>0.0</td>\n      <td>0.0</td>\n      <td>4</td>\n      <td>extremity</td>\n    </tr>\n  </tbody>\n</table>\n<p>24840 rows × 16 columns</p>\n</div>"
     },
     "metadata": {},
     "output_type": "display_data"
    }
   ],
   "source": [
    "# decreasing the scope of anatomy site can provide more information and so getting a more generic information\n",
    "df_cleaned['anatomy_site'] = df_cleaned['anatom_site_general'].apply(lambda anatomy: anatomy.split()[-1])\n",
    "display(df_cleaned)"
   ]
  },
  {
   "cell_type": "code",
   "execution_count": 14,
   "metadata": {
    "collapsed": false
   },
   "outputs": [
    {
     "data": {
      "text/plain": "              image  age_approx anatom_site_general    lesion_id     sex  MEL  \\\n2915   ISIC_0024318        65.0     lower extremity  HAM_0002450  female  0.0   \n2967   ISIC_0024370        55.0             unknown  HAM_0001780    male  0.0   \n2983   ISIC_0024386        40.0     lower extremity  HAM_0005112  female  0.0   \n3072   ISIC_0024475        35.0           head/neck  HAM_0003873    male  0.0   \n3114   ISIC_0024517        65.0     posterior torso  HAM_0001894    male  0.0   \n...             ...         ...                 ...          ...     ...  ...   \n25256  ISIC_0073141        45.0      anterior torso  BCN_0005520  female  0.0   \n25259  ISIC_0073144        75.0      anterior torso  BCN_0004091  female  0.0   \n25287  ISIC_0073193        35.0      anterior torso  BCN_0002147    male  0.0   \n25289  ISIC_0073195        70.0     lower extremity  BCN_0005492    male  0.0   \n25310  ISIC_0073223        80.0     upper extremity  BCN_0005542  female  0.0   \n\n        NV  BCC   AK  BKL   DF  VASC  SCC  UNK  label anatomy_site  is_seen  \n2915   0.0  0.0  0.0  0.0  1.0   0.0  0.0  0.0      5    extremity     True  \n2967   0.0  0.0  0.0  0.0  0.0   1.0  0.0  0.0      6      unknown     True  \n2983   0.0  0.0  0.0  0.0  1.0   0.0  0.0  0.0      5    extremity     True  \n3072   0.0  0.0  0.0  0.0  0.0   1.0  0.0  0.0      6    head/neck     True  \n3114   0.0  0.0  0.0  0.0  0.0   0.0  1.0  0.0      7        torso     True  \n...    ...  ...  ...  ...  ...   ...  ...  ...    ...          ...      ...  \n25256  0.0  0.0  0.0  0.0  1.0   0.0  0.0  0.0      5        torso     True  \n25259  1.0  0.0  0.0  0.0  0.0   0.0  0.0  0.0      1        torso     True  \n25287  0.0  0.0  0.0  0.0  1.0   0.0  0.0  0.0      5        torso     True  \n25289  0.0  0.0  0.0  0.0  0.0   0.0  1.0  0.0      7    extremity     True  \n25310  0.0  0.0  0.0  0.0  0.0   0.0  1.0  0.0      7    extremity     True  \n\n[1520 rows x 17 columns]",
      "text/html": "<div>\n<style scoped>\n    .dataframe tbody tr th:only-of-type {\n        vertical-align: middle;\n    }\n\n    .dataframe tbody tr th {\n        vertical-align: top;\n    }\n\n    .dataframe thead th {\n        text-align: right;\n    }\n</style>\n<table border=\"1\" class=\"dataframe\">\n  <thead>\n    <tr style=\"text-align: right;\">\n      <th></th>\n      <th>image</th>\n      <th>age_approx</th>\n      <th>anatom_site_general</th>\n      <th>lesion_id</th>\n      <th>sex</th>\n      <th>MEL</th>\n      <th>NV</th>\n      <th>BCC</th>\n      <th>AK</th>\n      <th>BKL</th>\n      <th>DF</th>\n      <th>VASC</th>\n      <th>SCC</th>\n      <th>UNK</th>\n      <th>label</th>\n      <th>anatomy_site</th>\n      <th>is_seen</th>\n    </tr>\n  </thead>\n  <tbody>\n    <tr>\n      <th>2915</th>\n      <td>ISIC_0024318</td>\n      <td>65.0</td>\n      <td>lower extremity</td>\n      <td>HAM_0002450</td>\n      <td>female</td>\n      <td>0.0</td>\n      <td>0.0</td>\n      <td>0.0</td>\n      <td>0.0</td>\n      <td>0.0</td>\n      <td>1.0</td>\n      <td>0.0</td>\n      <td>0.0</td>\n      <td>0.0</td>\n      <td>5</td>\n      <td>extremity</td>\n      <td>True</td>\n    </tr>\n    <tr>\n      <th>2967</th>\n      <td>ISIC_0024370</td>\n      <td>55.0</td>\n      <td>unknown</td>\n      <td>HAM_0001780</td>\n      <td>male</td>\n      <td>0.0</td>\n      <td>0.0</td>\n      <td>0.0</td>\n      <td>0.0</td>\n      <td>0.0</td>\n      <td>0.0</td>\n      <td>1.0</td>\n      <td>0.0</td>\n      <td>0.0</td>\n      <td>6</td>\n      <td>unknown</td>\n      <td>True</td>\n    </tr>\n    <tr>\n      <th>2983</th>\n      <td>ISIC_0024386</td>\n      <td>40.0</td>\n      <td>lower extremity</td>\n      <td>HAM_0005112</td>\n      <td>female</td>\n      <td>0.0</td>\n      <td>0.0</td>\n      <td>0.0</td>\n      <td>0.0</td>\n      <td>0.0</td>\n      <td>1.0</td>\n      <td>0.0</td>\n      <td>0.0</td>\n      <td>0.0</td>\n      <td>5</td>\n      <td>extremity</td>\n      <td>True</td>\n    </tr>\n    <tr>\n      <th>3072</th>\n      <td>ISIC_0024475</td>\n      <td>35.0</td>\n      <td>head/neck</td>\n      <td>HAM_0003873</td>\n      <td>male</td>\n      <td>0.0</td>\n      <td>0.0</td>\n      <td>0.0</td>\n      <td>0.0</td>\n      <td>0.0</td>\n      <td>0.0</td>\n      <td>1.0</td>\n      <td>0.0</td>\n      <td>0.0</td>\n      <td>6</td>\n      <td>head/neck</td>\n      <td>True</td>\n    </tr>\n    <tr>\n      <th>3114</th>\n      <td>ISIC_0024517</td>\n      <td>65.0</td>\n      <td>posterior torso</td>\n      <td>HAM_0001894</td>\n      <td>male</td>\n      <td>0.0</td>\n      <td>0.0</td>\n      <td>0.0</td>\n      <td>0.0</td>\n      <td>0.0</td>\n      <td>0.0</td>\n      <td>0.0</td>\n      <td>1.0</td>\n      <td>0.0</td>\n      <td>7</td>\n      <td>torso</td>\n      <td>True</td>\n    </tr>\n    <tr>\n      <th>...</th>\n      <td>...</td>\n      <td>...</td>\n      <td>...</td>\n      <td>...</td>\n      <td>...</td>\n      <td>...</td>\n      <td>...</td>\n      <td>...</td>\n      <td>...</td>\n      <td>...</td>\n      <td>...</td>\n      <td>...</td>\n      <td>...</td>\n      <td>...</td>\n      <td>...</td>\n      <td>...</td>\n      <td>...</td>\n    </tr>\n    <tr>\n      <th>25256</th>\n      <td>ISIC_0073141</td>\n      <td>45.0</td>\n      <td>anterior torso</td>\n      <td>BCN_0005520</td>\n      <td>female</td>\n      <td>0.0</td>\n      <td>0.0</td>\n      <td>0.0</td>\n      <td>0.0</td>\n      <td>0.0</td>\n      <td>1.0</td>\n      <td>0.0</td>\n      <td>0.0</td>\n      <td>0.0</td>\n      <td>5</td>\n      <td>torso</td>\n      <td>True</td>\n    </tr>\n    <tr>\n      <th>25259</th>\n      <td>ISIC_0073144</td>\n      <td>75.0</td>\n      <td>anterior torso</td>\n      <td>BCN_0004091</td>\n      <td>female</td>\n      <td>0.0</td>\n      <td>1.0</td>\n      <td>0.0</td>\n      <td>0.0</td>\n      <td>0.0</td>\n      <td>0.0</td>\n      <td>0.0</td>\n      <td>0.0</td>\n      <td>0.0</td>\n      <td>1</td>\n      <td>torso</td>\n      <td>True</td>\n    </tr>\n    <tr>\n      <th>25287</th>\n      <td>ISIC_0073193</td>\n      <td>35.0</td>\n      <td>anterior torso</td>\n      <td>BCN_0002147</td>\n      <td>male</td>\n      <td>0.0</td>\n      <td>0.0</td>\n      <td>0.0</td>\n      <td>0.0</td>\n      <td>0.0</td>\n      <td>1.0</td>\n      <td>0.0</td>\n      <td>0.0</td>\n      <td>0.0</td>\n      <td>5</td>\n      <td>torso</td>\n      <td>True</td>\n    </tr>\n    <tr>\n      <th>25289</th>\n      <td>ISIC_0073195</td>\n      <td>70.0</td>\n      <td>lower extremity</td>\n      <td>BCN_0005492</td>\n      <td>male</td>\n      <td>0.0</td>\n      <td>0.0</td>\n      <td>0.0</td>\n      <td>0.0</td>\n      <td>0.0</td>\n      <td>0.0</td>\n      <td>0.0</td>\n      <td>1.0</td>\n      <td>0.0</td>\n      <td>7</td>\n      <td>extremity</td>\n      <td>True</td>\n    </tr>\n    <tr>\n      <th>25310</th>\n      <td>ISIC_0073223</td>\n      <td>80.0</td>\n      <td>upper extremity</td>\n      <td>BCN_0005542</td>\n      <td>female</td>\n      <td>0.0</td>\n      <td>0.0</td>\n      <td>0.0</td>\n      <td>0.0</td>\n      <td>0.0</td>\n      <td>0.0</td>\n      <td>0.0</td>\n      <td>1.0</td>\n      <td>0.0</td>\n      <td>7</td>\n      <td>extremity</td>\n      <td>True</td>\n    </tr>\n  </tbody>\n</table>\n<p>1520 rows × 17 columns</p>\n</div>"
     },
     "metadata": {},
     "output_type": "display_data"
    },
    {
     "data": {
      "text/plain": "                         image  age_approx anatom_site_general     lesion_id  \\\n0                 ISIC_0000000        55.0      anterior torso           NaN   \n1                 ISIC_0000001        30.0      anterior torso           NaN   \n2                 ISIC_0000002        60.0     upper extremity           NaN   \n3                 ISIC_0000003        30.0     upper extremity           NaN   \n4                 ISIC_0000004        80.0     posterior torso           NaN   \n...                        ...         ...                 ...           ...   \n1745  ISIC_0013235_downsampled        45.0     posterior torso  MSK4_0011691   \n1746  ISIC_0013236_downsampled        75.0     upper extremity  MSK4_0011692   \n1747  ISIC_0013238_downsampled        75.0     upper extremity  MSK4_0010809   \n1748  ISIC_0013242_downsampled        85.0     upper extremity  MSK4_0010725   \n1749  ISIC_0013243_downsampled        65.0           head/neck  MSK4_0010162   \n\n         sex  MEL   NV  BCC   AK  BKL   DF  VASC  SCC  UNK  label  \\\n0     female  0.0  1.0  0.0  0.0  0.0  0.0   0.0  0.0  0.0      1   \n1     female  0.0  1.0  0.0  0.0  0.0  0.0   0.0  0.0  0.0      1   \n2     female  1.0  0.0  0.0  0.0  0.0  0.0   0.0  0.0  0.0      0   \n3       male  0.0  1.0  0.0  0.0  0.0  0.0   0.0  0.0  0.0      1   \n4       male  1.0  0.0  0.0  0.0  0.0  0.0   0.0  0.0  0.0      0   \n...      ...  ...  ...  ...  ...  ...  ...   ...  ...  ...    ...   \n1745    male  0.0  1.0  0.0  0.0  0.0  0.0   0.0  0.0  0.0      1   \n1746    male  0.0  0.0  0.0  0.0  1.0  0.0   0.0  0.0  0.0      4   \n1747  female  0.0  1.0  0.0  0.0  0.0  0.0   0.0  0.0  0.0      1   \n1748    male  1.0  0.0  0.0  0.0  0.0  0.0   0.0  0.0  0.0      0   \n1749    male  0.0  1.0  0.0  0.0  0.0  0.0   0.0  0.0  0.0      1   \n\n     anatomy_site  is_seen  \n0           torso    False  \n1           torso    False  \n2       extremity    False  \n3       extremity    False  \n4           torso    False  \n...           ...      ...  \n1745        torso    False  \n1746    extremity    False  \n1747    extremity    False  \n1748    extremity    False  \n1749    head/neck    False  \n\n[1520 rows x 17 columns]",
      "text/html": "<div>\n<style scoped>\n    .dataframe tbody tr th:only-of-type {\n        vertical-align: middle;\n    }\n\n    .dataframe tbody tr th {\n        vertical-align: top;\n    }\n\n    .dataframe thead th {\n        text-align: right;\n    }\n</style>\n<table border=\"1\" class=\"dataframe\">\n  <thead>\n    <tr style=\"text-align: right;\">\n      <th></th>\n      <th>image</th>\n      <th>age_approx</th>\n      <th>anatom_site_general</th>\n      <th>lesion_id</th>\n      <th>sex</th>\n      <th>MEL</th>\n      <th>NV</th>\n      <th>BCC</th>\n      <th>AK</th>\n      <th>BKL</th>\n      <th>DF</th>\n      <th>VASC</th>\n      <th>SCC</th>\n      <th>UNK</th>\n      <th>label</th>\n      <th>anatomy_site</th>\n      <th>is_seen</th>\n    </tr>\n  </thead>\n  <tbody>\n    <tr>\n      <th>0</th>\n      <td>ISIC_0000000</td>\n      <td>55.0</td>\n      <td>anterior torso</td>\n      <td>NaN</td>\n      <td>female</td>\n      <td>0.0</td>\n      <td>1.0</td>\n      <td>0.0</td>\n      <td>0.0</td>\n      <td>0.0</td>\n      <td>0.0</td>\n      <td>0.0</td>\n      <td>0.0</td>\n      <td>0.0</td>\n      <td>1</td>\n      <td>torso</td>\n      <td>False</td>\n    </tr>\n    <tr>\n      <th>1</th>\n      <td>ISIC_0000001</td>\n      <td>30.0</td>\n      <td>anterior torso</td>\n      <td>NaN</td>\n      <td>female</td>\n      <td>0.0</td>\n      <td>1.0</td>\n      <td>0.0</td>\n      <td>0.0</td>\n      <td>0.0</td>\n      <td>0.0</td>\n      <td>0.0</td>\n      <td>0.0</td>\n      <td>0.0</td>\n      <td>1</td>\n      <td>torso</td>\n      <td>False</td>\n    </tr>\n    <tr>\n      <th>2</th>\n      <td>ISIC_0000002</td>\n      <td>60.0</td>\n      <td>upper extremity</td>\n      <td>NaN</td>\n      <td>female</td>\n      <td>1.0</td>\n      <td>0.0</td>\n      <td>0.0</td>\n      <td>0.0</td>\n      <td>0.0</td>\n      <td>0.0</td>\n      <td>0.0</td>\n      <td>0.0</td>\n      <td>0.0</td>\n      <td>0</td>\n      <td>extremity</td>\n      <td>False</td>\n    </tr>\n    <tr>\n      <th>3</th>\n      <td>ISIC_0000003</td>\n      <td>30.0</td>\n      <td>upper extremity</td>\n      <td>NaN</td>\n      <td>male</td>\n      <td>0.0</td>\n      <td>1.0</td>\n      <td>0.0</td>\n      <td>0.0</td>\n      <td>0.0</td>\n      <td>0.0</td>\n      <td>0.0</td>\n      <td>0.0</td>\n      <td>0.0</td>\n      <td>1</td>\n      <td>extremity</td>\n      <td>False</td>\n    </tr>\n    <tr>\n      <th>4</th>\n      <td>ISIC_0000004</td>\n      <td>80.0</td>\n      <td>posterior torso</td>\n      <td>NaN</td>\n      <td>male</td>\n      <td>1.0</td>\n      <td>0.0</td>\n      <td>0.0</td>\n      <td>0.0</td>\n      <td>0.0</td>\n      <td>0.0</td>\n      <td>0.0</td>\n      <td>0.0</td>\n      <td>0.0</td>\n      <td>0</td>\n      <td>torso</td>\n      <td>False</td>\n    </tr>\n    <tr>\n      <th>...</th>\n      <td>...</td>\n      <td>...</td>\n      <td>...</td>\n      <td>...</td>\n      <td>...</td>\n      <td>...</td>\n      <td>...</td>\n      <td>...</td>\n      <td>...</td>\n      <td>...</td>\n      <td>...</td>\n      <td>...</td>\n      <td>...</td>\n      <td>...</td>\n      <td>...</td>\n      <td>...</td>\n      <td>...</td>\n    </tr>\n    <tr>\n      <th>1745</th>\n      <td>ISIC_0013235_downsampled</td>\n      <td>45.0</td>\n      <td>posterior torso</td>\n      <td>MSK4_0011691</td>\n      <td>male</td>\n      <td>0.0</td>\n      <td>1.0</td>\n      <td>0.0</td>\n      <td>0.0</td>\n      <td>0.0</td>\n      <td>0.0</td>\n      <td>0.0</td>\n      <td>0.0</td>\n      <td>0.0</td>\n      <td>1</td>\n      <td>torso</td>\n      <td>False</td>\n    </tr>\n    <tr>\n      <th>1746</th>\n      <td>ISIC_0013236_downsampled</td>\n      <td>75.0</td>\n      <td>upper extremity</td>\n      <td>MSK4_0011692</td>\n      <td>male</td>\n      <td>0.0</td>\n      <td>0.0</td>\n      <td>0.0</td>\n      <td>0.0</td>\n      <td>1.0</td>\n      <td>0.0</td>\n      <td>0.0</td>\n      <td>0.0</td>\n      <td>0.0</td>\n      <td>4</td>\n      <td>extremity</td>\n      <td>False</td>\n    </tr>\n    <tr>\n      <th>1747</th>\n      <td>ISIC_0013238_downsampled</td>\n      <td>75.0</td>\n      <td>upper extremity</td>\n      <td>MSK4_0010809</td>\n      <td>female</td>\n      <td>0.0</td>\n      <td>1.0</td>\n      <td>0.0</td>\n      <td>0.0</td>\n      <td>0.0</td>\n      <td>0.0</td>\n      <td>0.0</td>\n      <td>0.0</td>\n      <td>0.0</td>\n      <td>1</td>\n      <td>extremity</td>\n      <td>False</td>\n    </tr>\n    <tr>\n      <th>1748</th>\n      <td>ISIC_0013242_downsampled</td>\n      <td>85.0</td>\n      <td>upper extremity</td>\n      <td>MSK4_0010725</td>\n      <td>male</td>\n      <td>1.0</td>\n      <td>0.0</td>\n      <td>0.0</td>\n      <td>0.0</td>\n      <td>0.0</td>\n      <td>0.0</td>\n      <td>0.0</td>\n      <td>0.0</td>\n      <td>0.0</td>\n      <td>0</td>\n      <td>extremity</td>\n      <td>False</td>\n    </tr>\n    <tr>\n      <th>1749</th>\n      <td>ISIC_0013243_downsampled</td>\n      <td>65.0</td>\n      <td>head/neck</td>\n      <td>MSK4_0010162</td>\n      <td>male</td>\n      <td>0.0</td>\n      <td>1.0</td>\n      <td>0.0</td>\n      <td>0.0</td>\n      <td>0.0</td>\n      <td>0.0</td>\n      <td>0.0</td>\n      <td>0.0</td>\n      <td>0.0</td>\n      <td>1</td>\n      <td>head/neck</td>\n      <td>False</td>\n    </tr>\n  </tbody>\n</table>\n<p>1520 rows × 17 columns</p>\n</div>"
     },
     "metadata": {},
     "output_type": "display_data"
    }
   ],
   "source": [
    "with open(f\"{STATE_PATH}/images_seen.txt\") as seen_file:\n",
    "    images_seen = seen_file.read()\n",
    "    images_seen = images_seen.split('\\n')\n",
    "    images_seen = set(images_seen)\n",
    "df_cleaned['is_seen'] = df_cleaned['image'].apply(lambda name: name in images_seen)\n",
    "\n",
    "df_seen = df_cleaned[df_cleaned['is_seen']].copy()\n",
    "display(df_seen)\n",
    "df_test = df_cleaned[df_cleaned['is_seen'] == False].copy()\n",
    "# Limit the number of test results to speed up experiments\n",
    "df_test = df_test.head(df_seen.shape[0])\n",
    "display(df_test)"
   ]
  },
  {
   "cell_type": "markdown",
   "metadata": {
    "collapsed": false
   },
   "source": [
    "## Baseline\n",
    "\n",
    "Predicting everything as MEL (label = 0) since that is the most dangerous type of skin lesion!!!"
   ]
  },
  {
   "cell_type": "code",
   "execution_count": 15,
   "metadata": {
    "collapsed": false
   },
   "outputs": [
    {
     "name": "stdout",
     "output_type": "stream",
     "text": [
      "Accuracy on test data: 14.87%\n"
     ]
    }
   ],
   "source": [
    "accuracy_test = (df_test['label'] == 0).sum() / df_test.shape[0]\n",
    "print(f\"Accuracy on test data: {accuracy_test * 100:.2f}%\")"
   ]
  },
  {
   "cell_type": "code",
   "execution_count": 16,
   "metadata": {
    "collapsed": false
   },
   "outputs": [],
   "source": [
    "def load_img_data(img_names):\n",
    "    images = []\n",
    "    for img_name in img_names:\n",
    "        img = load_img(f\"{IMAGE_PATH}/{img_name}.{IMAGE_TYPE}\", target_size=TARGET_SIZE)\n",
    "        img = img_to_array(img)\n",
    "        images.append(img)\n",
    "    return np.stack(images)"
   ]
  },
  {
   "cell_type": "code",
   "execution_count": 17,
   "metadata": {
    "collapsed": false
   },
   "outputs": [],
   "source": [
    "def aug_img_data(images, size=TARGET_SIZE, delta=DELTA, contrast_factor=CONTRAST_FACTOR, is_flip_on=IS_FLIP_ON, **kwargs):\n",
    "    # make a copy of images\n",
    "    images_aug = copy.deepcopy(images)\n",
    "    # image resize\n",
    "    images_aug = tf.image.resize(images_aug, size=size)\n",
    "\n",
    "    # brightness\n",
    "    images_aug = tf.image.adjust_brightness(images_aug, delta=delta)\n",
    "    # contrast\n",
    "    images_aug = tf.image.adjust_contrast(images_aug, contrast_factor=contrast_factor)\n",
    "    # random flip\n",
    "    if is_flip_on:\n",
    "        images_aug = tf.image.random_flip_left_right(images_aug)\n",
    "\n",
    "    return images_aug"
   ]
  },
  {
   "cell_type": "code",
   "execution_count": 18,
   "metadata": {
    "collapsed": false
   },
   "outputs": [
    {
     "name": "stdout",
     "output_type": "stream",
     "text": [
      "Length of training data: 1216\n",
      "Length of validation data: 304\n",
      "Length of test data: 1520\n"
     ]
    }
   ],
   "source": [
    "img_seen = load_img_data(df_seen['image'])\n",
    "y_seen = df_seen['label']\n",
    "\n",
    "img_train, img_val, y_train, y_val = train_test_split(img_seen, y_seen, test_size=TEST_SIZE, random_state=RANDOM_STATE)\n",
    "print(f\"Length of training data: {img_train.shape[0]}\")\n",
    "print(f\"Length of validation data: {img_val.shape[0]}\")\n",
    "\n",
    "img_test = load_img_data(df_test['image'])\n",
    "y_test = df_test['label']\n",
    "print(f\"Length of test data: {img_test.shape[0]}\")"
   ]
  },
  {
   "cell_type": "code",
   "execution_count": 19,
   "outputs": [],
   "source": [
    "def plot_history(hist):\n",
    "    x_arr = np.arange(len(hist['loss'])) + 1\n",
    "\n",
    "    fig = plt.figure(figsize=(12, 4))\n",
    "    ax = fig.add_subplot(1, 2, 1)\n",
    "    ax.plot(x_arr, hist['loss'], '-o', label='Train loss')\n",
    "    ax.plot(x_arr, hist['val_loss'], '--<', label='Validation loss')\n",
    "    ax.legend(fontsize=15)\n",
    "    ax.set_xlabel('Epoch', size=15)\n",
    "    ax.set_ylabel('Loss', size=15)\n",
    "\n",
    "    ax = fig.add_subplot(1, 2, 2)\n",
    "    ax.plot(x_arr, hist['accuracy'], '-o', label='Train acc.')\n",
    "    ax.plot(x_arr, hist['val_accuracy'], '--<', label='Validation acc.')\n",
    "    ax.legend(fontsize=15)\n",
    "    ax.set_xlabel('Epoch', size=15)\n",
    "    ax.set_ylabel('Accuracy', size=15)\n",
    "    plt.show()"
   ],
   "metadata": {
    "collapsed": false
   }
  },
  {
   "cell_type": "markdown",
   "metadata": {
    "collapsed": false
   },
   "source": [
    "## CNN"
   ]
  },
  {
   "cell_type": "code",
   "execution_count": 20,
   "metadata": {
    "collapsed": false
   },
   "outputs": [],
   "source": [
    "def build_cnn_model(kernel_size=KERNEL_SIZE, strides=(1, 1), pool_size=(2, 2), optimizer='Adam', learning_rate=LEARNING_RATE, conv_filters=[32, 64], hidden_units=[1024, 256], dropout_rate=0.8, **kwargs):\n",
    "# def build_cnn_model(kernel_size=(5, 5), strides=(1, 1), pool_size=(2, 2), optimizer='Adam', learning_rate=0.001, conv_filters=[32, 64], hidden_units=[1024], dropout_rate=0.5, **kwargs):\n",
    "    clear_session()\n",
    "    reset_random_seeds()\n",
    "\n",
    "    model = keras.Sequential()\n",
    "\n",
    "    for i, filters in enumerate(conv_filters):\n",
    "        i += 1\n",
    "        model.add(keras.layers.Conv2D(filters=filters, kernel_size=kernel_size, strides=strides, padding='same', name=f'conv_{i}', activation='relu'))\n",
    "        model.add(keras.layers.MaxPool2D(pool_size=pool_size, name=f'pool_{i}'))\n",
    "\n",
    "    model.add(keras.layers.Flatten())\n",
    "\n",
    "    for i, units in enumerate(hidden_units):\n",
    "        i += 1\n",
    "        model.add(keras.layers.Dropout(rate=dropout_rate))\n",
    "        model.add(keras.layers.Dense(units=units, name=f'fc_{i}', activation='relu'))\n",
    "\n",
    "    model.add(keras.layers.Dropout(rate=dropout_rate))\n",
    "    model.add(keras.layers.Dense(units=len(labels), name='output', activation=\"softmax\"))\n",
    "    model.build(input_shape=(None, *TARGET_SIZE, 3))\n",
    "\n",
    "    optimizer_mapping = {\n",
    "        'sgd': keras.optimizers.SGD,\n",
    "        'adam': keras.optimizers.Adam,\n",
    "    }\n",
    "    optimizer = optimizer_mapping[optimizer.lower()]\n",
    "    optimizer = optimizer(learning_rate=learning_rate)\n",
    "\n",
    "    model.compile(optimizer=optimizer, loss=\"sparse_categorical_crossentropy\", metrics=['accuracy'])\n",
    "    return model"
   ]
  },
  {
   "cell_type": "code",
   "execution_count": 21,
   "outputs": [],
   "source": [
    "def build_embedding_df(model, data_img, index):\n",
    "    # get the flatten, penultimate, and output layers\n",
    "    # layer_outputs = [model.get_layer('flatten'), model.layers[-3], model.layers[-1]]\n",
    "    # layer_outputs = [layer.output for layer in layer_outputs]\n",
    "    # model_img_embedding = keras.models.Model(inputs=model_cnn.input, outputs=layer_outputs)\n",
    "\n",
    "    # get penultimate layer\n",
    "    model_img_embedding = keras.models.Model(inputs=model_cnn.input, outputs=model.layers[-3].output)\n",
    "    embedding_img = model_img_embedding.predict(data_img)\n",
    "    print(embedding_img.shape)\n",
    "\n",
    "    embedding_cols = [f\"emb_{i+1}\" for i in range(embedding_img.shape[1])]\n",
    "    embedding_df = pd.DataFrame(embedding_img, columns=embedding_cols, index=index)\n",
    "    embedding_df.reset_index(inplace=True)\n",
    "    return embedding_df.rename(columns={'index': 'image'})"
   ],
   "metadata": {
    "collapsed": false
   }
  },
  {
   "cell_type": "markdown",
   "source": [
    "# augment train data\n",
    "img_seen_aug = aug_img_data(img_seen)\n",
    "img_seen_aug = tf.concat([img_seen, img_seen_aug], axis=0)\n",
    "y_seen_aug = tf.concat([y_seen, y_seen], axis=0)\n",
    "\n",
    "# shuffle the data\n",
    "reset_random_seeds()\n",
    "shuffle = tf.random.shuffle(tf.range(tf.shape(img_seen_aug)[0], dtype=tf.int32))\n",
    "img_seen_aug = tf.gather(img_seen_aug, shuffle)\n",
    "y_seen_aug = tf.gather(y_seen_aug, shuffle).numpy()\n",
    "print(f\"Length of augmented seen data: {img_seen_aug.shape[0]}\")\n",
    "\n",
    "if 'model_cnn' in locals() or 'model_cnn' in globals():\n",
    "    del model_cnn\n",
    "model_cnn = build_cnn_model()\n",
    "model_cnn.summary()\n",
    "\n",
    "history_cnn = model_cnn.fit(img_seen_aug, y_seen_aug, epochs=EPOCHS, batch_size=BATCH_SIZE, validation_split=TEST_SIZE).history\n",
    "plot_history(history_cnn)\n",
    "\n",
    "i = 1100\n",
    "print(f\"embeddings: {build_embedding_df(model_cnn, img_seen_aug[i:i + 1]).to_numpy()}\")\n",
    "print(f\"predicts: {model_cnn.predict(img_seen_aug[i:i+1])}\")\n",
    "print(f\"ground-truth: {y_seen_aug[i:i+1]}\")"
   ],
   "metadata": {
    "collapsed": false
   }
  },
  {
   "cell_type": "markdown",
   "source": [
    "default_args = {\n",
    "    \"kernel_size\": KERNEL_SIZE,\n",
    "    \"strides\": (1, 1),\n",
    "    \"pool_size\": (2, 2),\n",
    "    \"optimizer\": \"Adam\",\n",
    "    \"learning_rate\": LEARNING_RATE,\n",
    "    \"delta\": DELTA,\n",
    "    \"contrast_factor\": CONTRAST_FACTOR,\n",
    "    \"is_flip_on\": IS_FLIP_ON\n",
    "}\n",
    "new_args = {\n",
    "    # \"kernel_size\": (3, 3),\n",
    "    \"strides\": (2, 2),\n",
    "    # \"pool_size\": (3, 3),\n",
    "    # \"optimizer\": \"SGD\",  # unable to train and so not considering this\n",
    "    # \"learning_rate\": 0.01,  # this is causing ripple effect\n",
    "    \"delta\": 0.1,  # this is performing better and so using as default\n",
    "    \"contrast_factor\": 2,  # this is performing better and so using as default\n",
    "    \"is_flip_on\": False\n",
    "}\n",
    "# history_cnn = history_cnn.history\n",
    "results = [[\n",
    "    history_cnn['accuracy'][-1],\n",
    "    history_cnn['val_accuracy'][-1],\n",
    "    default_args['kernel_size'],\n",
    "    default_args['strides'],\n",
    "    default_args['pool_size'],\n",
    "    default_args['learning_rate'],\n",
    "    default_args['optimizer'],\n",
    "    default_args['delta'],\n",
    "    default_args['contrast_factor'],\n",
    "    default_args['is_flip_on']\n",
    "]]\n",
    "\n",
    "for k, v in new_args.items():\n",
    "    time.sleep(30)\n",
    "    # clear_output(wait=True)\n",
    "    exp_args = copy.deepcopy(default_args)\n",
    "    exp_args[k] = v\n",
    "    print(f\"Experiment: {exp_args}\")\n",
    "    print(f\"Modified: {k} = {v}\")\n",
    "\n",
    "    img_seen_aug = aug_img_data(img_seen, **exp_args)\n",
    "    img_seen_aug = tf.concat([img_seen, img_seen_aug], axis=0)\n",
    "    y_seen_aug = tf.concat([y_seen, y_seen], axis=0)\n",
    "\n",
    "    # shuffle the data\n",
    "    reset_random_seeds()\n",
    "    shuffle = tf.random.shuffle(tf.range(tf.shape(img_seen_aug)[0], dtype=tf.int32))\n",
    "    img_seen_aug = tf.gather(img_seen_aug, shuffle)\n",
    "    y_seen_aug = tf.gather(y_seen_aug, shuffle).numpy()\n",
    "    # print(f\"Length of augmented seen data: {img_seen_aug.shape[0]}\")\n",
    "\n",
    "    if 'model_cnn' in locals() or 'model_cnn' in globals():\n",
    "        del model_cnn\n",
    "    model_cnn = build_cnn_model(**exp_args)\n",
    "    model_cnn.summary()\n",
    "\n",
    "    history_cnn = model_cnn.fit(img_seen_aug, y_seen_aug, epochs=EPOCHS, batch_size=BATCH_SIZE, validation_split=TEST_SIZE).history\n",
    "    plot_history(history_cnn)\n",
    "\n",
    "    results.append([\n",
    "        history_cnn['accuracy'][-1],\n",
    "        history_cnn['val_accuracy'][-1],\n",
    "        exp_args['kernel_size'],\n",
    "        exp_args['strides'],\n",
    "        exp_args['pool_size'],\n",
    "        exp_args['learning_rate'],\n",
    "        exp_args['optimizer'],\n",
    "        exp_args['delta'],\n",
    "        exp_args['contrast_factor'],\n",
    "        exp_args['is_flip_on']\n",
    "    ])\n",
    "\n",
    "    i = 1100\n",
    "    print(f\"embeddings: {build_embedding_df(model_cnn, img_seen_aug[i:i + 1]).to_numpy()}\")\n",
    "    print(f\"predicts: {model_cnn.predict(img_seen_aug[i:i+1])}\")\n",
    "    print(f\"ground-truth: {y_seen_aug[i:i+1]}\")\n",
    "\n",
    "df_cnn_results = pd.DataFrame(results)\n",
    "display(HTML(df_cnn_results.to_html(index=False)))"
   ],
   "metadata": {
    "collapsed": false
   }
  },
  {
   "cell_type": "markdown",
   "source": [
    "## Create Image Embeddings"
   ],
   "metadata": {
    "collapsed": false
   }
  },
  {
   "cell_type": "markdown",
   "source": [
    "#### Selected CNN"
   ],
   "metadata": {
    "collapsed": false
   }
  },
  {
   "cell_type": "code",
   "execution_count": 22,
   "outputs": [
    {
     "name": "stdout",
     "output_type": "stream",
     "text": [
      "Experiment: {'kernel_size': (3, 3), 'strides': (2, 2), 'pool_size': (2, 2), 'optimizer': 'Adam', 'learning_rate': 0.0005, 'delta': 0.3, 'contrast_factor': 2, 'is_flip_on': True}\n"
     ]
    },
    {
     "name": "stderr",
     "output_type": "stream",
     "text": [
      "2022-11-23 07:48:37.036861: I tensorflow/core/platform/cpu_feature_guard.cc:193] This TensorFlow binary is optimized with oneAPI Deep Neural Network Library (oneDNN) to use the following CPU instructions in performance-critical operations:  AVX2 FMA\n",
      "To enable them in other operations, rebuild TensorFlow with the appropriate compiler flags.\n",
      "2022-11-23 07:48:37.039356: W tensorflow/core/framework/cpu_allocator_impl.cc:82] Allocation of 915210240 exceeds 10% of free system memory.\n",
      "2022-11-23 07:48:37.362249: W tensorflow/core/framework/cpu_allocator_impl.cc:82] Allocation of 915210240 exceeds 10% of free system memory.\n",
      "2022-11-23 07:48:37.678726: W tensorflow/core/framework/cpu_allocator_impl.cc:82] Allocation of 915210240 exceeds 10% of free system memory.\n",
      "2022-11-23 07:48:37.803028: W tensorflow/core/framework/cpu_allocator_impl.cc:82] Allocation of 915210240 exceeds 10% of free system memory.\n",
      "2022-11-23 07:48:38.261643: W tensorflow/core/framework/cpu_allocator_impl.cc:82] Allocation of 915210240 exceeds 10% of free system memory.\n"
     ]
    },
    {
     "name": "stdout",
     "output_type": "stream",
     "text": [
      "Epoch 1/25\n",
      "76/76 [==============================] - 10s 133ms/step - loss: 26.3794 - accuracy: 0.1086 - val_loss: 2.1661 - val_accuracy: 0.1513\n",
      "Epoch 2/25\n",
      "76/76 [==============================] - 10s 128ms/step - loss: 2.4068 - accuracy: 0.1361 - val_loss: 2.1692 - val_accuracy: 0.1464\n",
      "Epoch 3/25\n",
      "76/76 [==============================] - 9s 123ms/step - loss: 2.2929 - accuracy: 0.1303 - val_loss: 2.1618 - val_accuracy: 0.1497\n",
      "Epoch 4/25\n",
      "76/76 [==============================] - 9s 123ms/step - loss: 2.2368 - accuracy: 0.1246 - val_loss: 2.1542 - val_accuracy: 0.1414\n",
      "Epoch 5/25\n",
      "76/76 [==============================] - 9s 125ms/step - loss: 2.2023 - accuracy: 0.1423 - val_loss: 2.1464 - val_accuracy: 0.1628\n",
      "Epoch 6/25\n",
      "76/76 [==============================] - 9s 123ms/step - loss: 2.1886 - accuracy: 0.1336 - val_loss: 2.1398 - val_accuracy: 0.1645\n",
      "Epoch 7/25\n",
      "76/76 [==============================] - 10s 125ms/step - loss: 2.1568 - accuracy: 0.1312 - val_loss: 2.1312 - val_accuracy: 0.1562\n",
      "Epoch 8/25\n",
      "76/76 [==============================] - 10s 126ms/step - loss: 2.1460 - accuracy: 0.1287 - val_loss: 2.1248 - val_accuracy: 0.1579\n",
      "Epoch 9/25\n",
      "76/76 [==============================] - 9s 124ms/step - loss: 2.1359 - accuracy: 0.1456 - val_loss: 2.1193 - val_accuracy: 0.1530\n",
      "Epoch 10/25\n",
      "76/76 [==============================] - 10s 126ms/step - loss: 2.1375 - accuracy: 0.1345 - val_loss: 2.1155 - val_accuracy: 0.1513\n",
      "Epoch 11/25\n",
      "76/76 [==============================] - 9s 123ms/step - loss: 2.1304 - accuracy: 0.1353 - val_loss: 2.1099 - val_accuracy: 0.1546\n",
      "Epoch 12/25\n",
      "76/76 [==============================] - 10s 128ms/step - loss: 2.1239 - accuracy: 0.1369 - val_loss: 2.1079 - val_accuracy: 0.1497\n",
      "Epoch 13/25\n",
      "76/76 [==============================] - 10s 125ms/step - loss: 2.1260 - accuracy: 0.1427 - val_loss: 2.1045 - val_accuracy: 0.1645\n",
      "Epoch 14/25\n",
      "76/76 [==============================] - 9s 125ms/step - loss: 2.1160 - accuracy: 0.1188 - val_loss: 2.1036 - val_accuracy: 0.1612\n",
      "Epoch 15/25\n",
      "76/76 [==============================] - 10s 128ms/step - loss: 2.1177 - accuracy: 0.1361 - val_loss: 2.1028 - val_accuracy: 0.1612\n",
      "Epoch 16/25\n",
      "76/76 [==============================] - 9s 125ms/step - loss: 2.1235 - accuracy: 0.1332 - val_loss: 2.1000 - val_accuracy: 0.1562\n",
      "Epoch 17/25\n",
      "76/76 [==============================] - 10s 131ms/step - loss: 2.1111 - accuracy: 0.1398 - val_loss: 2.0959 - val_accuracy: 0.1793\n",
      "Epoch 18/25\n",
      "76/76 [==============================] - 10s 127ms/step - loss: 2.1160 - accuracy: 0.1324 - val_loss: 2.0915 - val_accuracy: 0.1727\n",
      "Epoch 19/25\n",
      "76/76 [==============================] - 10s 135ms/step - loss: 2.1058 - accuracy: 0.1410 - val_loss: 2.0905 - val_accuracy: 0.1711\n",
      "Epoch 20/25\n",
      "76/76 [==============================] - 10s 136ms/step - loss: 2.1051 - accuracy: 0.1295 - val_loss: 2.0854 - val_accuracy: 0.1711\n",
      "Epoch 21/25\n",
      "76/76 [==============================] - 10s 131ms/step - loss: 2.1042 - accuracy: 0.1365 - val_loss: 2.0855 - val_accuracy: 0.1694\n",
      "Epoch 22/25\n",
      "76/76 [==============================] - 10s 129ms/step - loss: 2.1041 - accuracy: 0.1353 - val_loss: 2.0862 - val_accuracy: 0.1776\n",
      "Epoch 23/25\n",
      "76/76 [==============================] - 10s 126ms/step - loss: 2.1111 - accuracy: 0.1299 - val_loss: 2.0890 - val_accuracy: 0.1645\n",
      "Epoch 24/25\n",
      "76/76 [==============================] - 10s 130ms/step - loss: 2.0995 - accuracy: 0.1345 - val_loss: 2.0849 - val_accuracy: 0.1743\n",
      "Epoch 25/25\n",
      "76/76 [==============================] - 10s 126ms/step - loss: 2.0942 - accuracy: 0.1365 - val_loss: 2.0800 - val_accuracy: 0.1793\n",
      "Model: \"sequential\"\n",
      "_________________________________________________________________\n",
      " Layer (type)                Output Shape              Param #   \n",
      "=================================================================\n",
      " conv_1 (Conv2D)             (None, 112, 112, 32)      896       \n",
      "                                                                 \n",
      " pool_1 (MaxPooling2D)       (None, 56, 56, 32)        0         \n",
      "                                                                 \n",
      " conv_2 (Conv2D)             (None, 28, 28, 64)        18496     \n",
      "                                                                 \n",
      " pool_2 (MaxPooling2D)       (None, 14, 14, 64)        0         \n",
      "                                                                 \n",
      " flatten (Flatten)           (None, 12544)             0         \n",
      "                                                                 \n",
      " dropout (Dropout)           (None, 12544)             0         \n",
      "                                                                 \n",
      " fc_1 (Dense)                (None, 1024)              12846080  \n",
      "                                                                 \n",
      " dropout_1 (Dropout)         (None, 1024)              0         \n",
      "                                                                 \n",
      " fc_2 (Dense)                (None, 256)               262400    \n",
      "                                                                 \n",
      " dropout_2 (Dropout)         (None, 256)               0         \n",
      "                                                                 \n",
      " output (Dense)              (None, 9)                 2313      \n",
      "                                                                 \n",
      "=================================================================\n",
      "Total params: 13,130,185\n",
      "Trainable params: 13,130,185\n",
      "Non-trainable params: 0\n",
      "_________________________________________________________________\n"
     ]
    }
   ],
   "source": [
    "CNN_MODEL_FILENAME = f\"{MODELS_PATH}/model_cnn.h5\"\n",
    "if os.path.isfile(CNN_MODEL_FILENAME):\n",
    "    model_cnn = keras.models.load_model(CNN_MODEL_FILENAME)\n",
    "else:\n",
    "    default_args = {\n",
    "        \"kernel_size\": KERNEL_SIZE,\n",
    "        \"strides\": (1, 1),\n",
    "        \"pool_size\": (2, 2),\n",
    "        \"optimizer\": \"Adam\",\n",
    "        \"learning_rate\": LEARNING_RATE,\n",
    "        \"delta\": DELTA,\n",
    "        \"contrast_factor\": CONTRAST_FACTOR,\n",
    "        \"is_flip_on\": IS_FLIP_ON\n",
    "    }\n",
    "    exp_args = {\n",
    "        **default_args,\n",
    "        \"strides\": (2, 2),\n",
    "        \"contrast_factor\": 2\n",
    "    }\n",
    "\n",
    "    # time.sleep(30)\n",
    "    # clear_output(wait=True)\n",
    "    print(f\"Experiment: {exp_args}\")\n",
    "\n",
    "    img_seen_aug = aug_img_data(img_seen, **exp_args)\n",
    "    img_seen_aug = tf.concat([img_seen, img_seen_aug], axis=0)\n",
    "    y_seen_aug = tf.concat([y_seen, y_seen], axis=0)\n",
    "\n",
    "    # shuffle the data\n",
    "    reset_random_seeds()\n",
    "    shuffle = tf.random.shuffle(tf.range(tf.shape(img_seen_aug)[0], dtype=tf.int32))\n",
    "    img_seen_aug = tf.gather(img_seen_aug, shuffle)\n",
    "    y_seen_aug = tf.gather(y_seen_aug, shuffle).numpy()\n",
    "\n",
    "    if 'model_cnn' in locals() or 'model_cnn' in globals():\n",
    "        del model_cnn\n",
    "    model_cnn = build_cnn_model(**exp_args)\n",
    "    model_cnn.fit(img_seen_aug, y_seen_aug, epochs=EPOCHS, batch_size=BATCH_SIZE, validation_split=TEST_SIZE)\n",
    "    model_cnn.save(CNN_MODEL_FILENAME)\n",
    "\n",
    "model_cnn.summary()"
   ],
   "metadata": {
    "collapsed": false
   }
  },
  {
   "cell_type": "code",
   "execution_count": 23,
   "outputs": [
    {
     "name": "stdout",
     "output_type": "stream",
     "text": [
      "48/48 [==============================] - 1s 23ms/step\n",
      "(1520, 256)\n"
     ]
    },
    {
     "data": {
      "text/plain": "             image  emb_1     emb_2  emb_3     emb_4     emb_5  emb_6  \\\n0     ISIC_0024318    0.0  0.139611    0.0  0.000000  0.043557    0.0   \n1     ISIC_0024370    0.0  0.139611    0.0  0.000000  0.043557    0.0   \n2     ISIC_0024386    0.0  0.139611    0.0  0.000000  0.043557    0.0   \n3     ISIC_0024475    0.0  0.139611    0.0  0.000000  0.043557    0.0   \n4     ISIC_0024517    0.0  0.139611    0.0  0.000000  0.043557    0.0   \n...            ...    ...       ...    ...       ...       ...    ...   \n1515  ISIC_0073141    0.0  0.139611    0.0  0.000000  0.043557    0.0   \n1516  ISIC_0073144    0.0  0.139611    0.0  0.000000  0.043557    0.0   \n1517  ISIC_0073193    0.0  0.139611    0.0  0.000000  0.043557    0.0   \n1518  ISIC_0073195    0.0  0.123884    0.0  0.015693  0.046896    0.0   \n1519  ISIC_0073223    0.0  0.139611    0.0  0.000000  0.043557    0.0   \n\n         emb_7     emb_8  emb_9  ...  emb_247  emb_248  emb_249  emb_250  \\\n0     0.073905  0.175965    0.0  ...      0.0      0.0      0.0      0.0   \n1     0.073905  0.175965    0.0  ...      0.0      0.0      0.0      0.0   \n2     0.073905  0.175965    0.0  ...      0.0      0.0      0.0      0.0   \n3     0.073905  0.175965    0.0  ...      0.0      0.0      0.0      0.0   \n4     0.073905  0.175965    0.0  ...      0.0      0.0      0.0      0.0   \n...        ...       ...    ...  ...      ...      ...      ...      ...   \n1515  0.073905  0.175965    0.0  ...      0.0      0.0      0.0      0.0   \n1516  0.073905  0.175965    0.0  ...      0.0      0.0      0.0      0.0   \n1517  0.073905  0.175965    0.0  ...      0.0      0.0      0.0      0.0   \n1518  0.066377  0.167728    0.0  ...      0.0      0.0      0.0      0.0   \n1519  0.073905  0.175965    0.0  ...      0.0      0.0      0.0      0.0   \n\n      emb_251   emb_252  emb_253  emb_254   emb_255  emb_256  \n0         0.0  0.086808      0.0      0.0  0.033308      0.0  \n1         0.0  0.086808      0.0      0.0  0.033308      0.0  \n2         0.0  0.086808      0.0      0.0  0.033308      0.0  \n3         0.0  0.086808      0.0      0.0  0.033308      0.0  \n4         0.0  0.086808      0.0      0.0  0.033308      0.0  \n...       ...       ...      ...      ...       ...      ...  \n1515      0.0  0.086808      0.0      0.0  0.033308      0.0  \n1516      0.0  0.086808      0.0      0.0  0.033308      0.0  \n1517      0.0  0.086808      0.0      0.0  0.033308      0.0  \n1518      0.0  0.078383      0.0      0.0  0.041129      0.0  \n1519      0.0  0.086808      0.0      0.0  0.033308      0.0  \n\n[1520 rows x 257 columns]",
      "text/html": "<div>\n<style scoped>\n    .dataframe tbody tr th:only-of-type {\n        vertical-align: middle;\n    }\n\n    .dataframe tbody tr th {\n        vertical-align: top;\n    }\n\n    .dataframe thead th {\n        text-align: right;\n    }\n</style>\n<table border=\"1\" class=\"dataframe\">\n  <thead>\n    <tr style=\"text-align: right;\">\n      <th></th>\n      <th>image</th>\n      <th>emb_1</th>\n      <th>emb_2</th>\n      <th>emb_3</th>\n      <th>emb_4</th>\n      <th>emb_5</th>\n      <th>emb_6</th>\n      <th>emb_7</th>\n      <th>emb_8</th>\n      <th>emb_9</th>\n      <th>...</th>\n      <th>emb_247</th>\n      <th>emb_248</th>\n      <th>emb_249</th>\n      <th>emb_250</th>\n      <th>emb_251</th>\n      <th>emb_252</th>\n      <th>emb_253</th>\n      <th>emb_254</th>\n      <th>emb_255</th>\n      <th>emb_256</th>\n    </tr>\n  </thead>\n  <tbody>\n    <tr>\n      <th>0</th>\n      <td>ISIC_0024318</td>\n      <td>0.0</td>\n      <td>0.139611</td>\n      <td>0.0</td>\n      <td>0.000000</td>\n      <td>0.043557</td>\n      <td>0.0</td>\n      <td>0.073905</td>\n      <td>0.175965</td>\n      <td>0.0</td>\n      <td>...</td>\n      <td>0.0</td>\n      <td>0.0</td>\n      <td>0.0</td>\n      <td>0.0</td>\n      <td>0.0</td>\n      <td>0.086808</td>\n      <td>0.0</td>\n      <td>0.0</td>\n      <td>0.033308</td>\n      <td>0.0</td>\n    </tr>\n    <tr>\n      <th>1</th>\n      <td>ISIC_0024370</td>\n      <td>0.0</td>\n      <td>0.139611</td>\n      <td>0.0</td>\n      <td>0.000000</td>\n      <td>0.043557</td>\n      <td>0.0</td>\n      <td>0.073905</td>\n      <td>0.175965</td>\n      <td>0.0</td>\n      <td>...</td>\n      <td>0.0</td>\n      <td>0.0</td>\n      <td>0.0</td>\n      <td>0.0</td>\n      <td>0.0</td>\n      <td>0.086808</td>\n      <td>0.0</td>\n      <td>0.0</td>\n      <td>0.033308</td>\n      <td>0.0</td>\n    </tr>\n    <tr>\n      <th>2</th>\n      <td>ISIC_0024386</td>\n      <td>0.0</td>\n      <td>0.139611</td>\n      <td>0.0</td>\n      <td>0.000000</td>\n      <td>0.043557</td>\n      <td>0.0</td>\n      <td>0.073905</td>\n      <td>0.175965</td>\n      <td>0.0</td>\n      <td>...</td>\n      <td>0.0</td>\n      <td>0.0</td>\n      <td>0.0</td>\n      <td>0.0</td>\n      <td>0.0</td>\n      <td>0.086808</td>\n      <td>0.0</td>\n      <td>0.0</td>\n      <td>0.033308</td>\n      <td>0.0</td>\n    </tr>\n    <tr>\n      <th>3</th>\n      <td>ISIC_0024475</td>\n      <td>0.0</td>\n      <td>0.139611</td>\n      <td>0.0</td>\n      <td>0.000000</td>\n      <td>0.043557</td>\n      <td>0.0</td>\n      <td>0.073905</td>\n      <td>0.175965</td>\n      <td>0.0</td>\n      <td>...</td>\n      <td>0.0</td>\n      <td>0.0</td>\n      <td>0.0</td>\n      <td>0.0</td>\n      <td>0.0</td>\n      <td>0.086808</td>\n      <td>0.0</td>\n      <td>0.0</td>\n      <td>0.033308</td>\n      <td>0.0</td>\n    </tr>\n    <tr>\n      <th>4</th>\n      <td>ISIC_0024517</td>\n      <td>0.0</td>\n      <td>0.139611</td>\n      <td>0.0</td>\n      <td>0.000000</td>\n      <td>0.043557</td>\n      <td>0.0</td>\n      <td>0.073905</td>\n      <td>0.175965</td>\n      <td>0.0</td>\n      <td>...</td>\n      <td>0.0</td>\n      <td>0.0</td>\n      <td>0.0</td>\n      <td>0.0</td>\n      <td>0.0</td>\n      <td>0.086808</td>\n      <td>0.0</td>\n      <td>0.0</td>\n      <td>0.033308</td>\n      <td>0.0</td>\n    </tr>\n    <tr>\n      <th>...</th>\n      <td>...</td>\n      <td>...</td>\n      <td>...</td>\n      <td>...</td>\n      <td>...</td>\n      <td>...</td>\n      <td>...</td>\n      <td>...</td>\n      <td>...</td>\n      <td>...</td>\n      <td>...</td>\n      <td>...</td>\n      <td>...</td>\n      <td>...</td>\n      <td>...</td>\n      <td>...</td>\n      <td>...</td>\n      <td>...</td>\n      <td>...</td>\n      <td>...</td>\n      <td>...</td>\n    </tr>\n    <tr>\n      <th>1515</th>\n      <td>ISIC_0073141</td>\n      <td>0.0</td>\n      <td>0.139611</td>\n      <td>0.0</td>\n      <td>0.000000</td>\n      <td>0.043557</td>\n      <td>0.0</td>\n      <td>0.073905</td>\n      <td>0.175965</td>\n      <td>0.0</td>\n      <td>...</td>\n      <td>0.0</td>\n      <td>0.0</td>\n      <td>0.0</td>\n      <td>0.0</td>\n      <td>0.0</td>\n      <td>0.086808</td>\n      <td>0.0</td>\n      <td>0.0</td>\n      <td>0.033308</td>\n      <td>0.0</td>\n    </tr>\n    <tr>\n      <th>1516</th>\n      <td>ISIC_0073144</td>\n      <td>0.0</td>\n      <td>0.139611</td>\n      <td>0.0</td>\n      <td>0.000000</td>\n      <td>0.043557</td>\n      <td>0.0</td>\n      <td>0.073905</td>\n      <td>0.175965</td>\n      <td>0.0</td>\n      <td>...</td>\n      <td>0.0</td>\n      <td>0.0</td>\n      <td>0.0</td>\n      <td>0.0</td>\n      <td>0.0</td>\n      <td>0.086808</td>\n      <td>0.0</td>\n      <td>0.0</td>\n      <td>0.033308</td>\n      <td>0.0</td>\n    </tr>\n    <tr>\n      <th>1517</th>\n      <td>ISIC_0073193</td>\n      <td>0.0</td>\n      <td>0.139611</td>\n      <td>0.0</td>\n      <td>0.000000</td>\n      <td>0.043557</td>\n      <td>0.0</td>\n      <td>0.073905</td>\n      <td>0.175965</td>\n      <td>0.0</td>\n      <td>...</td>\n      <td>0.0</td>\n      <td>0.0</td>\n      <td>0.0</td>\n      <td>0.0</td>\n      <td>0.0</td>\n      <td>0.086808</td>\n      <td>0.0</td>\n      <td>0.0</td>\n      <td>0.033308</td>\n      <td>0.0</td>\n    </tr>\n    <tr>\n      <th>1518</th>\n      <td>ISIC_0073195</td>\n      <td>0.0</td>\n      <td>0.123884</td>\n      <td>0.0</td>\n      <td>0.015693</td>\n      <td>0.046896</td>\n      <td>0.0</td>\n      <td>0.066377</td>\n      <td>0.167728</td>\n      <td>0.0</td>\n      <td>...</td>\n      <td>0.0</td>\n      <td>0.0</td>\n      <td>0.0</td>\n      <td>0.0</td>\n      <td>0.0</td>\n      <td>0.078383</td>\n      <td>0.0</td>\n      <td>0.0</td>\n      <td>0.041129</td>\n      <td>0.0</td>\n    </tr>\n    <tr>\n      <th>1519</th>\n      <td>ISIC_0073223</td>\n      <td>0.0</td>\n      <td>0.139611</td>\n      <td>0.0</td>\n      <td>0.000000</td>\n      <td>0.043557</td>\n      <td>0.0</td>\n      <td>0.073905</td>\n      <td>0.175965</td>\n      <td>0.0</td>\n      <td>...</td>\n      <td>0.0</td>\n      <td>0.0</td>\n      <td>0.0</td>\n      <td>0.0</td>\n      <td>0.0</td>\n      <td>0.086808</td>\n      <td>0.0</td>\n      <td>0.0</td>\n      <td>0.033308</td>\n      <td>0.0</td>\n    </tr>\n  </tbody>\n</table>\n<p>1520 rows × 257 columns</p>\n</div>"
     },
     "metadata": {},
     "output_type": "display_data"
    },
    {
     "name": "stdout",
     "output_type": "stream",
     "text": [
      "48/48 [==============================] - 1s 23ms/step\n",
      "(1520, 256)\n"
     ]
    },
    {
     "data": {
      "text/plain": "                         image  emb_1     emb_2  emb_3     emb_4     emb_5  \\\n0                 ISIC_0000000    0.0  0.139611    0.0  0.000000  0.043557   \n1                 ISIC_0000001    0.0  0.139611    0.0  0.000000  0.043557   \n2                 ISIC_0000002    0.0  0.092903    0.0  0.000000  0.052280   \n3                 ISIC_0000003    0.0  0.139611    0.0  0.000000  0.043557   \n4                 ISIC_0000004    0.0  0.019288    0.0  0.105425  0.064938   \n...                        ...    ...       ...    ...       ...       ...   \n1515  ISIC_0013235_downsampled    0.0  0.139611    0.0  0.000000  0.043557   \n1516  ISIC_0013236_downsampled    0.0  0.105616    0.0  0.004360  0.037977   \n1517  ISIC_0013238_downsampled    0.0  0.137349    0.0  0.000000  0.048483   \n1518  ISIC_0013242_downsampled    0.0  0.138458    0.0  0.000182  0.045011   \n1519  ISIC_0013243_downsampled    0.0  0.139611    0.0  0.000000  0.043557   \n\n      emb_6     emb_7     emb_8  emb_9  ...  emb_247  emb_248   emb_249  \\\n0       0.0  0.073905  0.175965    0.0  ...      0.0      0.0  0.000000   \n1       0.0  0.073905  0.175965    0.0  ...      0.0      0.0  0.000000   \n2       0.0  0.085877  0.128976    0.0  ...      0.0      0.0  0.032012   \n3       0.0  0.073905  0.175965    0.0  ...      0.0      0.0  0.000000   \n4       0.0  0.335405  0.161193    0.0  ...      0.0      0.0  0.259145   \n...     ...       ...       ...    ...  ...      ...      ...       ...   \n1515    0.0  0.073905  0.175965    0.0  ...      0.0      0.0  0.000000   \n1516    0.0  0.058930  0.162295    0.0  ...      0.0      0.0  0.011361   \n1517    0.0  0.088710  0.174625    0.0  ...      0.0      0.0  0.000000   \n1518    0.0  0.076645  0.177364    0.0  ...      0.0      0.0  0.001305   \n1519    0.0  0.073905  0.175965    0.0  ...      0.0      0.0  0.000000   \n\n      emb_250  emb_251   emb_252  emb_253   emb_254   emb_255  emb_256  \n0         0.0      0.0  0.086808      0.0  0.000000  0.033308      0.0  \n1         0.0      0.0  0.086808      0.0  0.000000  0.033308      0.0  \n2         0.0      0.0  0.050904      0.0  0.000000  0.068563      0.0  \n3         0.0      0.0  0.086808      0.0  0.000000  0.033308      0.0  \n4         0.0      0.0  0.022893      0.0  0.068641  0.262451      0.0  \n...       ...      ...       ...      ...       ...       ...      ...  \n1515      0.0      0.0  0.086808      0.0  0.000000  0.033308      0.0  \n1516      0.0      0.0  0.069590      0.0  0.000000  0.040387      0.0  \n1517      0.0      0.0  0.075484      0.0  0.000000  0.049447      0.0  \n1518      0.0      0.0  0.079594      0.0  0.000000  0.032432      0.0  \n1519      0.0      0.0  0.086808      0.0  0.000000  0.033308      0.0  \n\n[1520 rows x 257 columns]",
      "text/html": "<div>\n<style scoped>\n    .dataframe tbody tr th:only-of-type {\n        vertical-align: middle;\n    }\n\n    .dataframe tbody tr th {\n        vertical-align: top;\n    }\n\n    .dataframe thead th {\n        text-align: right;\n    }\n</style>\n<table border=\"1\" class=\"dataframe\">\n  <thead>\n    <tr style=\"text-align: right;\">\n      <th></th>\n      <th>image</th>\n      <th>emb_1</th>\n      <th>emb_2</th>\n      <th>emb_3</th>\n      <th>emb_4</th>\n      <th>emb_5</th>\n      <th>emb_6</th>\n      <th>emb_7</th>\n      <th>emb_8</th>\n      <th>emb_9</th>\n      <th>...</th>\n      <th>emb_247</th>\n      <th>emb_248</th>\n      <th>emb_249</th>\n      <th>emb_250</th>\n      <th>emb_251</th>\n      <th>emb_252</th>\n      <th>emb_253</th>\n      <th>emb_254</th>\n      <th>emb_255</th>\n      <th>emb_256</th>\n    </tr>\n  </thead>\n  <tbody>\n    <tr>\n      <th>0</th>\n      <td>ISIC_0000000</td>\n      <td>0.0</td>\n      <td>0.139611</td>\n      <td>0.0</td>\n      <td>0.000000</td>\n      <td>0.043557</td>\n      <td>0.0</td>\n      <td>0.073905</td>\n      <td>0.175965</td>\n      <td>0.0</td>\n      <td>...</td>\n      <td>0.0</td>\n      <td>0.0</td>\n      <td>0.000000</td>\n      <td>0.0</td>\n      <td>0.0</td>\n      <td>0.086808</td>\n      <td>0.0</td>\n      <td>0.000000</td>\n      <td>0.033308</td>\n      <td>0.0</td>\n    </tr>\n    <tr>\n      <th>1</th>\n      <td>ISIC_0000001</td>\n      <td>0.0</td>\n      <td>0.139611</td>\n      <td>0.0</td>\n      <td>0.000000</td>\n      <td>0.043557</td>\n      <td>0.0</td>\n      <td>0.073905</td>\n      <td>0.175965</td>\n      <td>0.0</td>\n      <td>...</td>\n      <td>0.0</td>\n      <td>0.0</td>\n      <td>0.000000</td>\n      <td>0.0</td>\n      <td>0.0</td>\n      <td>0.086808</td>\n      <td>0.0</td>\n      <td>0.000000</td>\n      <td>0.033308</td>\n      <td>0.0</td>\n    </tr>\n    <tr>\n      <th>2</th>\n      <td>ISIC_0000002</td>\n      <td>0.0</td>\n      <td>0.092903</td>\n      <td>0.0</td>\n      <td>0.000000</td>\n      <td>0.052280</td>\n      <td>0.0</td>\n      <td>0.085877</td>\n      <td>0.128976</td>\n      <td>0.0</td>\n      <td>...</td>\n      <td>0.0</td>\n      <td>0.0</td>\n      <td>0.032012</td>\n      <td>0.0</td>\n      <td>0.0</td>\n      <td>0.050904</td>\n      <td>0.0</td>\n      <td>0.000000</td>\n      <td>0.068563</td>\n      <td>0.0</td>\n    </tr>\n    <tr>\n      <th>3</th>\n      <td>ISIC_0000003</td>\n      <td>0.0</td>\n      <td>0.139611</td>\n      <td>0.0</td>\n      <td>0.000000</td>\n      <td>0.043557</td>\n      <td>0.0</td>\n      <td>0.073905</td>\n      <td>0.175965</td>\n      <td>0.0</td>\n      <td>...</td>\n      <td>0.0</td>\n      <td>0.0</td>\n      <td>0.000000</td>\n      <td>0.0</td>\n      <td>0.0</td>\n      <td>0.086808</td>\n      <td>0.0</td>\n      <td>0.000000</td>\n      <td>0.033308</td>\n      <td>0.0</td>\n    </tr>\n    <tr>\n      <th>4</th>\n      <td>ISIC_0000004</td>\n      <td>0.0</td>\n      <td>0.019288</td>\n      <td>0.0</td>\n      <td>0.105425</td>\n      <td>0.064938</td>\n      <td>0.0</td>\n      <td>0.335405</td>\n      <td>0.161193</td>\n      <td>0.0</td>\n      <td>...</td>\n      <td>0.0</td>\n      <td>0.0</td>\n      <td>0.259145</td>\n      <td>0.0</td>\n      <td>0.0</td>\n      <td>0.022893</td>\n      <td>0.0</td>\n      <td>0.068641</td>\n      <td>0.262451</td>\n      <td>0.0</td>\n    </tr>\n    <tr>\n      <th>...</th>\n      <td>...</td>\n      <td>...</td>\n      <td>...</td>\n      <td>...</td>\n      <td>...</td>\n      <td>...</td>\n      <td>...</td>\n      <td>...</td>\n      <td>...</td>\n      <td>...</td>\n      <td>...</td>\n      <td>...</td>\n      <td>...</td>\n      <td>...</td>\n      <td>...</td>\n      <td>...</td>\n      <td>...</td>\n      <td>...</td>\n      <td>...</td>\n      <td>...</td>\n      <td>...</td>\n    </tr>\n    <tr>\n      <th>1515</th>\n      <td>ISIC_0013235_downsampled</td>\n      <td>0.0</td>\n      <td>0.139611</td>\n      <td>0.0</td>\n      <td>0.000000</td>\n      <td>0.043557</td>\n      <td>0.0</td>\n      <td>0.073905</td>\n      <td>0.175965</td>\n      <td>0.0</td>\n      <td>...</td>\n      <td>0.0</td>\n      <td>0.0</td>\n      <td>0.000000</td>\n      <td>0.0</td>\n      <td>0.0</td>\n      <td>0.086808</td>\n      <td>0.0</td>\n      <td>0.000000</td>\n      <td>0.033308</td>\n      <td>0.0</td>\n    </tr>\n    <tr>\n      <th>1516</th>\n      <td>ISIC_0013236_downsampled</td>\n      <td>0.0</td>\n      <td>0.105616</td>\n      <td>0.0</td>\n      <td>0.004360</td>\n      <td>0.037977</td>\n      <td>0.0</td>\n      <td>0.058930</td>\n      <td>0.162295</td>\n      <td>0.0</td>\n      <td>...</td>\n      <td>0.0</td>\n      <td>0.0</td>\n      <td>0.011361</td>\n      <td>0.0</td>\n      <td>0.0</td>\n      <td>0.069590</td>\n      <td>0.0</td>\n      <td>0.000000</td>\n      <td>0.040387</td>\n      <td>0.0</td>\n    </tr>\n    <tr>\n      <th>1517</th>\n      <td>ISIC_0013238_downsampled</td>\n      <td>0.0</td>\n      <td>0.137349</td>\n      <td>0.0</td>\n      <td>0.000000</td>\n      <td>0.048483</td>\n      <td>0.0</td>\n      <td>0.088710</td>\n      <td>0.174625</td>\n      <td>0.0</td>\n      <td>...</td>\n      <td>0.0</td>\n      <td>0.0</td>\n      <td>0.000000</td>\n      <td>0.0</td>\n      <td>0.0</td>\n      <td>0.075484</td>\n      <td>0.0</td>\n      <td>0.000000</td>\n      <td>0.049447</td>\n      <td>0.0</td>\n    </tr>\n    <tr>\n      <th>1518</th>\n      <td>ISIC_0013242_downsampled</td>\n      <td>0.0</td>\n      <td>0.138458</td>\n      <td>0.0</td>\n      <td>0.000182</td>\n      <td>0.045011</td>\n      <td>0.0</td>\n      <td>0.076645</td>\n      <td>0.177364</td>\n      <td>0.0</td>\n      <td>...</td>\n      <td>0.0</td>\n      <td>0.0</td>\n      <td>0.001305</td>\n      <td>0.0</td>\n      <td>0.0</td>\n      <td>0.079594</td>\n      <td>0.0</td>\n      <td>0.000000</td>\n      <td>0.032432</td>\n      <td>0.0</td>\n    </tr>\n    <tr>\n      <th>1519</th>\n      <td>ISIC_0013243_downsampled</td>\n      <td>0.0</td>\n      <td>0.139611</td>\n      <td>0.0</td>\n      <td>0.000000</td>\n      <td>0.043557</td>\n      <td>0.0</td>\n      <td>0.073905</td>\n      <td>0.175965</td>\n      <td>0.0</td>\n      <td>...</td>\n      <td>0.0</td>\n      <td>0.0</td>\n      <td>0.000000</td>\n      <td>0.0</td>\n      <td>0.0</td>\n      <td>0.086808</td>\n      <td>0.0</td>\n      <td>0.000000</td>\n      <td>0.033308</td>\n      <td>0.0</td>\n    </tr>\n  </tbody>\n</table>\n<p>1520 rows × 257 columns</p>\n</div>"
     },
     "metadata": {},
     "output_type": "display_data"
    }
   ],
   "source": [
    "df_embeddings_img_seen = build_embedding_df(model_cnn, img_seen, df_seen['image'].to_list())\n",
    "display(df_embeddings_img_seen)\n",
    "\n",
    "df_embeddings_img_test = build_embedding_df(model_cnn, img_test, df_test['image'].to_list())\n",
    "display(df_embeddings_img_test)"
   ],
   "metadata": {
    "collapsed": false
   }
  },
  {
   "cell_type": "code",
   "execution_count": 24,
   "outputs": [
    {
     "data": {
      "text/plain": "              image  age_approx anatom_site_general    lesion_id     sex  MEL  \\\n2915   ISIC_0024318        65.0     lower extremity  HAM_0002450  female  0.0   \n2967   ISIC_0024370        55.0             unknown  HAM_0001780    male  0.0   \n2983   ISIC_0024386        40.0     lower extremity  HAM_0005112  female  0.0   \n3072   ISIC_0024475        35.0           head/neck  HAM_0003873    male  0.0   \n3114   ISIC_0024517        65.0     posterior torso  HAM_0001894    male  0.0   \n...             ...         ...                 ...          ...     ...  ...   \n25256  ISIC_0073141        45.0      anterior torso  BCN_0005520  female  0.0   \n25259  ISIC_0073144        75.0      anterior torso  BCN_0004091  female  0.0   \n25287  ISIC_0073193        35.0      anterior torso  BCN_0002147    male  0.0   \n25289  ISIC_0073195        70.0     lower extremity  BCN_0005492    male  0.0   \n25310  ISIC_0073223        80.0     upper extremity  BCN_0005542  female  0.0   \n\n        NV  BCC   AK  BKL  ...  emb_247  emb_248  emb_249  emb_250  emb_251  \\\n2915   0.0  0.0  0.0  0.0  ...      0.0      0.0      0.0      0.0      0.0   \n2967   0.0  0.0  0.0  0.0  ...      0.0      0.0      0.0      0.0      0.0   \n2983   0.0  0.0  0.0  0.0  ...      0.0      0.0      0.0      0.0      0.0   \n3072   0.0  0.0  0.0  0.0  ...      0.0      0.0      0.0      0.0      0.0   \n3114   0.0  0.0  0.0  0.0  ...      0.0      0.0      0.0      0.0      0.0   \n...    ...  ...  ...  ...  ...      ...      ...      ...      ...      ...   \n25256  0.0  0.0  0.0  0.0  ...      0.0      0.0      0.0      0.0      0.0   \n25259  1.0  0.0  0.0  0.0  ...      0.0      0.0      0.0      0.0      0.0   \n25287  0.0  0.0  0.0  0.0  ...      0.0      0.0      0.0      0.0      0.0   \n25289  0.0  0.0  0.0  0.0  ...      0.0      0.0      0.0      0.0      0.0   \n25310  0.0  0.0  0.0  0.0  ...      0.0      0.0      0.0      0.0      0.0   \n\n        emb_252  emb_253  emb_254   emb_255  emb_256  \n2915   0.086808      0.0      0.0  0.033308      0.0  \n2967   0.086808      0.0      0.0  0.033308      0.0  \n2983   0.086808      0.0      0.0  0.033308      0.0  \n3072   0.086808      0.0      0.0  0.033308      0.0  \n3114   0.086808      0.0      0.0  0.033308      0.0  \n...         ...      ...      ...       ...      ...  \n25256  0.086808      0.0      0.0  0.033308      0.0  \n25259  0.086808      0.0      0.0  0.033308      0.0  \n25287  0.086808      0.0      0.0  0.033308      0.0  \n25289  0.078383      0.0      0.0  0.041129      0.0  \n25310  0.086808      0.0      0.0  0.033308      0.0  \n\n[1520 rows x 273 columns]",
      "text/html": "<div>\n<style scoped>\n    .dataframe tbody tr th:only-of-type {\n        vertical-align: middle;\n    }\n\n    .dataframe tbody tr th {\n        vertical-align: top;\n    }\n\n    .dataframe thead th {\n        text-align: right;\n    }\n</style>\n<table border=\"1\" class=\"dataframe\">\n  <thead>\n    <tr style=\"text-align: right;\">\n      <th></th>\n      <th>image</th>\n      <th>age_approx</th>\n      <th>anatom_site_general</th>\n      <th>lesion_id</th>\n      <th>sex</th>\n      <th>MEL</th>\n      <th>NV</th>\n      <th>BCC</th>\n      <th>AK</th>\n      <th>BKL</th>\n      <th>...</th>\n      <th>emb_247</th>\n      <th>emb_248</th>\n      <th>emb_249</th>\n      <th>emb_250</th>\n      <th>emb_251</th>\n      <th>emb_252</th>\n      <th>emb_253</th>\n      <th>emb_254</th>\n      <th>emb_255</th>\n      <th>emb_256</th>\n    </tr>\n  </thead>\n  <tbody>\n    <tr>\n      <th>2915</th>\n      <td>ISIC_0024318</td>\n      <td>65.0</td>\n      <td>lower extremity</td>\n      <td>HAM_0002450</td>\n      <td>female</td>\n      <td>0.0</td>\n      <td>0.0</td>\n      <td>0.0</td>\n      <td>0.0</td>\n      <td>0.0</td>\n      <td>...</td>\n      <td>0.0</td>\n      <td>0.0</td>\n      <td>0.0</td>\n      <td>0.0</td>\n      <td>0.0</td>\n      <td>0.086808</td>\n      <td>0.0</td>\n      <td>0.0</td>\n      <td>0.033308</td>\n      <td>0.0</td>\n    </tr>\n    <tr>\n      <th>2967</th>\n      <td>ISIC_0024370</td>\n      <td>55.0</td>\n      <td>unknown</td>\n      <td>HAM_0001780</td>\n      <td>male</td>\n      <td>0.0</td>\n      <td>0.0</td>\n      <td>0.0</td>\n      <td>0.0</td>\n      <td>0.0</td>\n      <td>...</td>\n      <td>0.0</td>\n      <td>0.0</td>\n      <td>0.0</td>\n      <td>0.0</td>\n      <td>0.0</td>\n      <td>0.086808</td>\n      <td>0.0</td>\n      <td>0.0</td>\n      <td>0.033308</td>\n      <td>0.0</td>\n    </tr>\n    <tr>\n      <th>2983</th>\n      <td>ISIC_0024386</td>\n      <td>40.0</td>\n      <td>lower extremity</td>\n      <td>HAM_0005112</td>\n      <td>female</td>\n      <td>0.0</td>\n      <td>0.0</td>\n      <td>0.0</td>\n      <td>0.0</td>\n      <td>0.0</td>\n      <td>...</td>\n      <td>0.0</td>\n      <td>0.0</td>\n      <td>0.0</td>\n      <td>0.0</td>\n      <td>0.0</td>\n      <td>0.086808</td>\n      <td>0.0</td>\n      <td>0.0</td>\n      <td>0.033308</td>\n      <td>0.0</td>\n    </tr>\n    <tr>\n      <th>3072</th>\n      <td>ISIC_0024475</td>\n      <td>35.0</td>\n      <td>head/neck</td>\n      <td>HAM_0003873</td>\n      <td>male</td>\n      <td>0.0</td>\n      <td>0.0</td>\n      <td>0.0</td>\n      <td>0.0</td>\n      <td>0.0</td>\n      <td>...</td>\n      <td>0.0</td>\n      <td>0.0</td>\n      <td>0.0</td>\n      <td>0.0</td>\n      <td>0.0</td>\n      <td>0.086808</td>\n      <td>0.0</td>\n      <td>0.0</td>\n      <td>0.033308</td>\n      <td>0.0</td>\n    </tr>\n    <tr>\n      <th>3114</th>\n      <td>ISIC_0024517</td>\n      <td>65.0</td>\n      <td>posterior torso</td>\n      <td>HAM_0001894</td>\n      <td>male</td>\n      <td>0.0</td>\n      <td>0.0</td>\n      <td>0.0</td>\n      <td>0.0</td>\n      <td>0.0</td>\n      <td>...</td>\n      <td>0.0</td>\n      <td>0.0</td>\n      <td>0.0</td>\n      <td>0.0</td>\n      <td>0.0</td>\n      <td>0.086808</td>\n      <td>0.0</td>\n      <td>0.0</td>\n      <td>0.033308</td>\n      <td>0.0</td>\n    </tr>\n    <tr>\n      <th>...</th>\n      <td>...</td>\n      <td>...</td>\n      <td>...</td>\n      <td>...</td>\n      <td>...</td>\n      <td>...</td>\n      <td>...</td>\n      <td>...</td>\n      <td>...</td>\n      <td>...</td>\n      <td>...</td>\n      <td>...</td>\n      <td>...</td>\n      <td>...</td>\n      <td>...</td>\n      <td>...</td>\n      <td>...</td>\n      <td>...</td>\n      <td>...</td>\n      <td>...</td>\n      <td>...</td>\n    </tr>\n    <tr>\n      <th>25256</th>\n      <td>ISIC_0073141</td>\n      <td>45.0</td>\n      <td>anterior torso</td>\n      <td>BCN_0005520</td>\n      <td>female</td>\n      <td>0.0</td>\n      <td>0.0</td>\n      <td>0.0</td>\n      <td>0.0</td>\n      <td>0.0</td>\n      <td>...</td>\n      <td>0.0</td>\n      <td>0.0</td>\n      <td>0.0</td>\n      <td>0.0</td>\n      <td>0.0</td>\n      <td>0.086808</td>\n      <td>0.0</td>\n      <td>0.0</td>\n      <td>0.033308</td>\n      <td>0.0</td>\n    </tr>\n    <tr>\n      <th>25259</th>\n      <td>ISIC_0073144</td>\n      <td>75.0</td>\n      <td>anterior torso</td>\n      <td>BCN_0004091</td>\n      <td>female</td>\n      <td>0.0</td>\n      <td>1.0</td>\n      <td>0.0</td>\n      <td>0.0</td>\n      <td>0.0</td>\n      <td>...</td>\n      <td>0.0</td>\n      <td>0.0</td>\n      <td>0.0</td>\n      <td>0.0</td>\n      <td>0.0</td>\n      <td>0.086808</td>\n      <td>0.0</td>\n      <td>0.0</td>\n      <td>0.033308</td>\n      <td>0.0</td>\n    </tr>\n    <tr>\n      <th>25287</th>\n      <td>ISIC_0073193</td>\n      <td>35.0</td>\n      <td>anterior torso</td>\n      <td>BCN_0002147</td>\n      <td>male</td>\n      <td>0.0</td>\n      <td>0.0</td>\n      <td>0.0</td>\n      <td>0.0</td>\n      <td>0.0</td>\n      <td>...</td>\n      <td>0.0</td>\n      <td>0.0</td>\n      <td>0.0</td>\n      <td>0.0</td>\n      <td>0.0</td>\n      <td>0.086808</td>\n      <td>0.0</td>\n      <td>0.0</td>\n      <td>0.033308</td>\n      <td>0.0</td>\n    </tr>\n    <tr>\n      <th>25289</th>\n      <td>ISIC_0073195</td>\n      <td>70.0</td>\n      <td>lower extremity</td>\n      <td>BCN_0005492</td>\n      <td>male</td>\n      <td>0.0</td>\n      <td>0.0</td>\n      <td>0.0</td>\n      <td>0.0</td>\n      <td>0.0</td>\n      <td>...</td>\n      <td>0.0</td>\n      <td>0.0</td>\n      <td>0.0</td>\n      <td>0.0</td>\n      <td>0.0</td>\n      <td>0.078383</td>\n      <td>0.0</td>\n      <td>0.0</td>\n      <td>0.041129</td>\n      <td>0.0</td>\n    </tr>\n    <tr>\n      <th>25310</th>\n      <td>ISIC_0073223</td>\n      <td>80.0</td>\n      <td>upper extremity</td>\n      <td>BCN_0005542</td>\n      <td>female</td>\n      <td>0.0</td>\n      <td>0.0</td>\n      <td>0.0</td>\n      <td>0.0</td>\n      <td>0.0</td>\n      <td>...</td>\n      <td>0.0</td>\n      <td>0.0</td>\n      <td>0.0</td>\n      <td>0.0</td>\n      <td>0.0</td>\n      <td>0.086808</td>\n      <td>0.0</td>\n      <td>0.0</td>\n      <td>0.033308</td>\n      <td>0.0</td>\n    </tr>\n  </tbody>\n</table>\n<p>1520 rows × 273 columns</p>\n</div>"
     },
     "metadata": {},
     "output_type": "display_data"
    },
    {
     "data": {
      "text/plain": "                         image  age_approx anatom_site_general     lesion_id  \\\n0                 ISIC_0000000        55.0      anterior torso           NaN   \n1                 ISIC_0000001        30.0      anterior torso           NaN   \n2                 ISIC_0000002        60.0     upper extremity           NaN   \n3                 ISIC_0000003        30.0     upper extremity           NaN   \n4                 ISIC_0000004        80.0     posterior torso           NaN   \n...                        ...         ...                 ...           ...   \n1745  ISIC_0013235_downsampled        45.0     posterior torso  MSK4_0011691   \n1746  ISIC_0013236_downsampled        75.0     upper extremity  MSK4_0011692   \n1747  ISIC_0013238_downsampled        75.0     upper extremity  MSK4_0010809   \n1748  ISIC_0013242_downsampled        85.0     upper extremity  MSK4_0010725   \n1749  ISIC_0013243_downsampled        65.0           head/neck  MSK4_0010162   \n\n         sex  MEL   NV  BCC   AK  BKL  ...  emb_247  emb_248   emb_249  \\\n0     female  0.0  1.0  0.0  0.0  0.0  ...      0.0      0.0  0.000000   \n1     female  0.0  1.0  0.0  0.0  0.0  ...      0.0      0.0  0.000000   \n2     female  1.0  0.0  0.0  0.0  0.0  ...      0.0      0.0  0.032012   \n3       male  0.0  1.0  0.0  0.0  0.0  ...      0.0      0.0  0.000000   \n4       male  1.0  0.0  0.0  0.0  0.0  ...      0.0      0.0  0.259145   \n...      ...  ...  ...  ...  ...  ...  ...      ...      ...       ...   \n1745    male  0.0  1.0  0.0  0.0  0.0  ...      0.0      0.0  0.000000   \n1746    male  0.0  0.0  0.0  0.0  1.0  ...      0.0      0.0  0.011361   \n1747  female  0.0  1.0  0.0  0.0  0.0  ...      0.0      0.0  0.000000   \n1748    male  1.0  0.0  0.0  0.0  0.0  ...      0.0      0.0  0.001305   \n1749    male  0.0  1.0  0.0  0.0  0.0  ...      0.0      0.0  0.000000   \n\n      emb_250  emb_251   emb_252  emb_253   emb_254   emb_255  emb_256  \n0         0.0      0.0  0.086808      0.0  0.000000  0.033308      0.0  \n1         0.0      0.0  0.086808      0.0  0.000000  0.033308      0.0  \n2         0.0      0.0  0.050904      0.0  0.000000  0.068563      0.0  \n3         0.0      0.0  0.086808      0.0  0.000000  0.033308      0.0  \n4         0.0      0.0  0.022893      0.0  0.068641  0.262451      0.0  \n...       ...      ...       ...      ...       ...       ...      ...  \n1745      0.0      0.0  0.086808      0.0  0.000000  0.033308      0.0  \n1746      0.0      0.0  0.069590      0.0  0.000000  0.040387      0.0  \n1747      0.0      0.0  0.075484      0.0  0.000000  0.049447      0.0  \n1748      0.0      0.0  0.079594      0.0  0.000000  0.032432      0.0  \n1749      0.0      0.0  0.086808      0.0  0.000000  0.033308      0.0  \n\n[1520 rows x 273 columns]",
      "text/html": "<div>\n<style scoped>\n    .dataframe tbody tr th:only-of-type {\n        vertical-align: middle;\n    }\n\n    .dataframe tbody tr th {\n        vertical-align: top;\n    }\n\n    .dataframe thead th {\n        text-align: right;\n    }\n</style>\n<table border=\"1\" class=\"dataframe\">\n  <thead>\n    <tr style=\"text-align: right;\">\n      <th></th>\n      <th>image</th>\n      <th>age_approx</th>\n      <th>anatom_site_general</th>\n      <th>lesion_id</th>\n      <th>sex</th>\n      <th>MEL</th>\n      <th>NV</th>\n      <th>BCC</th>\n      <th>AK</th>\n      <th>BKL</th>\n      <th>...</th>\n      <th>emb_247</th>\n      <th>emb_248</th>\n      <th>emb_249</th>\n      <th>emb_250</th>\n      <th>emb_251</th>\n      <th>emb_252</th>\n      <th>emb_253</th>\n      <th>emb_254</th>\n      <th>emb_255</th>\n      <th>emb_256</th>\n    </tr>\n  </thead>\n  <tbody>\n    <tr>\n      <th>0</th>\n      <td>ISIC_0000000</td>\n      <td>55.0</td>\n      <td>anterior torso</td>\n      <td>NaN</td>\n      <td>female</td>\n      <td>0.0</td>\n      <td>1.0</td>\n      <td>0.0</td>\n      <td>0.0</td>\n      <td>0.0</td>\n      <td>...</td>\n      <td>0.0</td>\n      <td>0.0</td>\n      <td>0.000000</td>\n      <td>0.0</td>\n      <td>0.0</td>\n      <td>0.086808</td>\n      <td>0.0</td>\n      <td>0.000000</td>\n      <td>0.033308</td>\n      <td>0.0</td>\n    </tr>\n    <tr>\n      <th>1</th>\n      <td>ISIC_0000001</td>\n      <td>30.0</td>\n      <td>anterior torso</td>\n      <td>NaN</td>\n      <td>female</td>\n      <td>0.0</td>\n      <td>1.0</td>\n      <td>0.0</td>\n      <td>0.0</td>\n      <td>0.0</td>\n      <td>...</td>\n      <td>0.0</td>\n      <td>0.0</td>\n      <td>0.000000</td>\n      <td>0.0</td>\n      <td>0.0</td>\n      <td>0.086808</td>\n      <td>0.0</td>\n      <td>0.000000</td>\n      <td>0.033308</td>\n      <td>0.0</td>\n    </tr>\n    <tr>\n      <th>2</th>\n      <td>ISIC_0000002</td>\n      <td>60.0</td>\n      <td>upper extremity</td>\n      <td>NaN</td>\n      <td>female</td>\n      <td>1.0</td>\n      <td>0.0</td>\n      <td>0.0</td>\n      <td>0.0</td>\n      <td>0.0</td>\n      <td>...</td>\n      <td>0.0</td>\n      <td>0.0</td>\n      <td>0.032012</td>\n      <td>0.0</td>\n      <td>0.0</td>\n      <td>0.050904</td>\n      <td>0.0</td>\n      <td>0.000000</td>\n      <td>0.068563</td>\n      <td>0.0</td>\n    </tr>\n    <tr>\n      <th>3</th>\n      <td>ISIC_0000003</td>\n      <td>30.0</td>\n      <td>upper extremity</td>\n      <td>NaN</td>\n      <td>male</td>\n      <td>0.0</td>\n      <td>1.0</td>\n      <td>0.0</td>\n      <td>0.0</td>\n      <td>0.0</td>\n      <td>...</td>\n      <td>0.0</td>\n      <td>0.0</td>\n      <td>0.000000</td>\n      <td>0.0</td>\n      <td>0.0</td>\n      <td>0.086808</td>\n      <td>0.0</td>\n      <td>0.000000</td>\n      <td>0.033308</td>\n      <td>0.0</td>\n    </tr>\n    <tr>\n      <th>4</th>\n      <td>ISIC_0000004</td>\n      <td>80.0</td>\n      <td>posterior torso</td>\n      <td>NaN</td>\n      <td>male</td>\n      <td>1.0</td>\n      <td>0.0</td>\n      <td>0.0</td>\n      <td>0.0</td>\n      <td>0.0</td>\n      <td>...</td>\n      <td>0.0</td>\n      <td>0.0</td>\n      <td>0.259145</td>\n      <td>0.0</td>\n      <td>0.0</td>\n      <td>0.022893</td>\n      <td>0.0</td>\n      <td>0.068641</td>\n      <td>0.262451</td>\n      <td>0.0</td>\n    </tr>\n    <tr>\n      <th>...</th>\n      <td>...</td>\n      <td>...</td>\n      <td>...</td>\n      <td>...</td>\n      <td>...</td>\n      <td>...</td>\n      <td>...</td>\n      <td>...</td>\n      <td>...</td>\n      <td>...</td>\n      <td>...</td>\n      <td>...</td>\n      <td>...</td>\n      <td>...</td>\n      <td>...</td>\n      <td>...</td>\n      <td>...</td>\n      <td>...</td>\n      <td>...</td>\n      <td>...</td>\n      <td>...</td>\n    </tr>\n    <tr>\n      <th>1745</th>\n      <td>ISIC_0013235_downsampled</td>\n      <td>45.0</td>\n      <td>posterior torso</td>\n      <td>MSK4_0011691</td>\n      <td>male</td>\n      <td>0.0</td>\n      <td>1.0</td>\n      <td>0.0</td>\n      <td>0.0</td>\n      <td>0.0</td>\n      <td>...</td>\n      <td>0.0</td>\n      <td>0.0</td>\n      <td>0.000000</td>\n      <td>0.0</td>\n      <td>0.0</td>\n      <td>0.086808</td>\n      <td>0.0</td>\n      <td>0.000000</td>\n      <td>0.033308</td>\n      <td>0.0</td>\n    </tr>\n    <tr>\n      <th>1746</th>\n      <td>ISIC_0013236_downsampled</td>\n      <td>75.0</td>\n      <td>upper extremity</td>\n      <td>MSK4_0011692</td>\n      <td>male</td>\n      <td>0.0</td>\n      <td>0.0</td>\n      <td>0.0</td>\n      <td>0.0</td>\n      <td>1.0</td>\n      <td>...</td>\n      <td>0.0</td>\n      <td>0.0</td>\n      <td>0.011361</td>\n      <td>0.0</td>\n      <td>0.0</td>\n      <td>0.069590</td>\n      <td>0.0</td>\n      <td>0.000000</td>\n      <td>0.040387</td>\n      <td>0.0</td>\n    </tr>\n    <tr>\n      <th>1747</th>\n      <td>ISIC_0013238_downsampled</td>\n      <td>75.0</td>\n      <td>upper extremity</td>\n      <td>MSK4_0010809</td>\n      <td>female</td>\n      <td>0.0</td>\n      <td>1.0</td>\n      <td>0.0</td>\n      <td>0.0</td>\n      <td>0.0</td>\n      <td>...</td>\n      <td>0.0</td>\n      <td>0.0</td>\n      <td>0.000000</td>\n      <td>0.0</td>\n      <td>0.0</td>\n      <td>0.075484</td>\n      <td>0.0</td>\n      <td>0.000000</td>\n      <td>0.049447</td>\n      <td>0.0</td>\n    </tr>\n    <tr>\n      <th>1748</th>\n      <td>ISIC_0013242_downsampled</td>\n      <td>85.0</td>\n      <td>upper extremity</td>\n      <td>MSK4_0010725</td>\n      <td>male</td>\n      <td>1.0</td>\n      <td>0.0</td>\n      <td>0.0</td>\n      <td>0.0</td>\n      <td>0.0</td>\n      <td>...</td>\n      <td>0.0</td>\n      <td>0.0</td>\n      <td>0.001305</td>\n      <td>0.0</td>\n      <td>0.0</td>\n      <td>0.079594</td>\n      <td>0.0</td>\n      <td>0.000000</td>\n      <td>0.032432</td>\n      <td>0.0</td>\n    </tr>\n    <tr>\n      <th>1749</th>\n      <td>ISIC_0013243_downsampled</td>\n      <td>65.0</td>\n      <td>head/neck</td>\n      <td>MSK4_0010162</td>\n      <td>male</td>\n      <td>0.0</td>\n      <td>1.0</td>\n      <td>0.0</td>\n      <td>0.0</td>\n      <td>0.0</td>\n      <td>...</td>\n      <td>0.0</td>\n      <td>0.0</td>\n      <td>0.000000</td>\n      <td>0.0</td>\n      <td>0.0</td>\n      <td>0.086808</td>\n      <td>0.0</td>\n      <td>0.000000</td>\n      <td>0.033308</td>\n      <td>0.0</td>\n    </tr>\n  </tbody>\n</table>\n<p>1520 rows × 273 columns</p>\n</div>"
     },
     "metadata": {},
     "output_type": "display_data"
    }
   ],
   "source": [
    "df_complete_seen = df_seen.join(df_embeddings_img_seen.set_index('image'), on='image', how='left')\n",
    "display(df_complete_seen)\n",
    "\n",
    "df_complete_test = df_test.join(df_embeddings_img_test.set_index('image'), on='image', how='left')\n",
    "display(df_complete_test)"
   ],
   "metadata": {
    "collapsed": false
   }
  },
  {
   "cell_type": "markdown",
   "source": [
    "## Train-Val-Test split"
   ],
   "metadata": {
    "collapsed": false
   }
  },
  {
   "cell_type": "code",
   "execution_count": 39,
   "outputs": [
    {
     "name": "stdout",
     "output_type": "stream",
     "text": [
      "Length of training data: (1216, 283)\n",
      "Length of validation data: (304, 283)\n",
      "Length of test data: (1520, 283)\n"
     ]
    }
   ],
   "source": [
    "columns_cat = ['anatom_site_general', 'sex', 'anatomy_site']\n",
    "columns_to_drop = [*columns_cat, 'image', 'lesion_id', 'label']\n",
    "\n",
    "def usable_df(df, columns=None):\n",
    "    df_dump = df.copy()\n",
    "    y = df_dump['label']\n",
    "\n",
    "    for cat in columns_cat:\n",
    "        one_hot = pd.get_dummies(df_dump[cat], prefix=cat)\n",
    "        df_dump = df_dump.join(one_hot)\n",
    "\n",
    "    df_dump = df_dump.drop(columns_to_drop, axis=1)\n",
    "    if columns is not None:\n",
    "        missing_cols = set(columns).difference(set(df_dump.columns))\n",
    "        for miss_col in missing_cols:\n",
    "            df_dump[miss_col] = np.zeros(df_dump.shape[0])\n",
    "        df_dump = df_dump[columns]\n",
    "    return df_dump, df_dump.to_numpy(), y, df_dump.columns\n",
    "\n",
    "_, X_seen, y_seen, cols_usable = usable_df(df_complete_seen)\n",
    "X_train, X_val, y_train, y_val = train_test_split(X_seen, y_seen, test_size=TEST_SIZE, random_state=RANDOM_STATE)\n",
    "print(f\"Length of training data: {X_train.shape}\")\n",
    "print(f\"Length of validation data: {X_val.shape}\")\n",
    "\n",
    "_, X_test, y_test, _ = usable_df(df_complete_test, cols_usable)\n",
    "print(f\"Length of test data: {X_test.shape}\")"
   ],
   "metadata": {
    "collapsed": false
   }
  },
  {
   "cell_type": "markdown",
   "source": [
    "## Logistic Regression"
   ],
   "metadata": {
    "collapsed": false
   }
  },
  {
   "cell_type": "code",
   "execution_count": 40,
   "outputs": [
    {
     "name": "stderr",
     "output_type": "stream",
     "text": [
      "/home/sudha/miniconda3/envs/tf/lib/python3.9/site-packages/sklearn/linear_model/_sag.py:350: ConvergenceWarning: The max_iter was reached which means the coef_ did not converge\n",
      "  warnings.warn(\n"
     ]
    },
    {
     "name": "stdout",
     "output_type": "stream",
     "text": [
      "Train Accuracy (solver=newton-cg): 100.00\n",
      "Validation Accuracy (solver=newton-cg): 100.00\n",
      "Test Accuracy (solver=newton-cg): 100.00\n"
     ]
    },
    {
     "name": "stderr",
     "output_type": "stream",
     "text": [
      "/home/sudha/miniconda3/envs/tf/lib/python3.9/site-packages/sklearn/linear_model/_sag.py:350: ConvergenceWarning: The max_iter was reached which means the coef_ did not converge\n",
      "  warnings.warn(\n"
     ]
    },
    {
     "name": "stdout",
     "output_type": "stream",
     "text": [
      "Train Accuracy (solver=lbfgs): 100.00\n",
      "Validation Accuracy (solver=lbfgs): 100.00\n",
      "Test Accuracy (solver=lbfgs): 100.00\n"
     ]
    },
    {
     "name": "stderr",
     "output_type": "stream",
     "text": [
      "/home/sudha/miniconda3/envs/tf/lib/python3.9/site-packages/sklearn/linear_model/_sag.py:350: ConvergenceWarning: The max_iter was reached which means the coef_ did not converge\n",
      "  warnings.warn(\n"
     ]
    },
    {
     "name": "stdout",
     "output_type": "stream",
     "text": [
      "Train Accuracy (solver=liblinear): 100.00\n",
      "Validation Accuracy (solver=liblinear): 100.00\n",
      "Test Accuracy (solver=liblinear): 100.00\n"
     ]
    },
    {
     "name": "stderr",
     "output_type": "stream",
     "text": [
      "/home/sudha/miniconda3/envs/tf/lib/python3.9/site-packages/sklearn/linear_model/_sag.py:350: ConvergenceWarning: The max_iter was reached which means the coef_ did not converge\n",
      "  warnings.warn(\n"
     ]
    },
    {
     "name": "stdout",
     "output_type": "stream",
     "text": [
      "Train Accuracy (solver=sag): 100.00\n",
      "Validation Accuracy (solver=sag): 100.00\n",
      "Test Accuracy (solver=sag): 100.00\n",
      "Train Accuracy (solver=saga): 100.00\n",
      "Validation Accuracy (solver=saga): 100.00\n",
      "Test Accuracy (solver=saga): 100.00\n"
     ]
    },
    {
     "name": "stderr",
     "output_type": "stream",
     "text": [
      "/home/sudha/miniconda3/envs/tf/lib/python3.9/site-packages/sklearn/linear_model/_sag.py:350: ConvergenceWarning: The max_iter was reached which means the coef_ did not converge\n",
      "  warnings.warn(\n"
     ]
    }
   ],
   "source": [
    "# https://scikit-learn.org/stable/modules/generated/sklearn.linear_model.LogisticRegression.html\n",
    "from sklearn.linear_model import LogisticRegression\n",
    "\n",
    "for solver in [\"newton-cg\", \"lbfgs\", \"liblinear\", \"sag\", \"saga\"]:\n",
    "    classifier_logistic = LogisticRegression(random_state=RANDOM_STATE, solver='sag')\n",
    "    classifier_logistic.fit(X_train, y_train)\n",
    "    print(f\"Train Accuracy (solver={solver}): {classifier_logistic.score(X_train, y_train) * 100:.2f}\")\n",
    "    print(f\"Validation Accuracy (solver={solver}): {classifier_logistic.score(X_val, y_val) * 100:.2f}\")\n",
    "    print(f\"Test Accuracy (solver={solver}): {classifier_logistic.score(X_test, y_test) * 100:.2f}\")"
   ],
   "metadata": {
    "collapsed": false
   }
  },
  {
   "cell_type": "markdown",
   "source": [
    "## Naive Bayes"
   ],
   "metadata": {
    "collapsed": false
   }
  },
  {
   "cell_type": "code",
   "execution_count": 42,
   "outputs": [
    {
     "name": "stdout",
     "output_type": "stream",
     "text": [
      "Train Accuracy (GaussianNB): 100.00\n",
      "Validation Accuracy (GaussianNB): 100.00\n",
      "Test Accuracy (GaussianNB): 99.93\n",
      "Train Accuracy (MultinomialNB): 99.34\n",
      "Validation Accuracy (MultinomialNB): 99.34\n",
      "Test Accuracy (MultinomialNB): 91.84\n",
      "Train Accuracy (ComplementNB): 100.00\n",
      "Validation Accuracy (ComplementNB): 100.00\n",
      "Test Accuracy (ComplementNB): 99.93\n",
      "Train Accuracy (BernoulliNB): 86.02\n",
      "Validation Accuracy (BernoulliNB): 82.57\n",
      "Test Accuracy (BernoulliNB): 71.78\n",
      "Train Accuracy (CategoricalNB): 100.00\n",
      "Validation Accuracy (CategoricalNB): 100.00\n"
     ]
    },
    {
     "ename": "IndexError",
     "evalue": "index 1 is out of bounds for axis 1 with size 1",
     "output_type": "error",
     "traceback": [
      "\u001B[0;31m---------------------------------------------------------------------------\u001B[0m",
      "\u001B[0;31mIndexError\u001B[0m                                Traceback (most recent call last)",
      "Cell \u001B[0;32mIn [42], line 9\u001B[0m\n\u001B[1;32m      7\u001B[0m \u001B[38;5;28mprint\u001B[39m(\u001B[38;5;124mf\u001B[39m\u001B[38;5;124m\"\u001B[39m\u001B[38;5;124mTrain Accuracy (\u001B[39m\u001B[38;5;132;01m{\u001B[39;00mnaive_bayes\u001B[38;5;241m.\u001B[39m\u001B[38;5;18m__name__\u001B[39m\u001B[38;5;132;01m}\u001B[39;00m\u001B[38;5;124m): \u001B[39m\u001B[38;5;132;01m{\u001B[39;00mclassifier_nb\u001B[38;5;241m.\u001B[39mscore(X_train, y_train) \u001B[38;5;241m*\u001B[39m \u001B[38;5;241m100\u001B[39m\u001B[38;5;132;01m:\u001B[39;00m\u001B[38;5;124m.2f\u001B[39m\u001B[38;5;132;01m}\u001B[39;00m\u001B[38;5;124m\"\u001B[39m)\n\u001B[1;32m      8\u001B[0m \u001B[38;5;28mprint\u001B[39m(\u001B[38;5;124mf\u001B[39m\u001B[38;5;124m\"\u001B[39m\u001B[38;5;124mValidation Accuracy (\u001B[39m\u001B[38;5;132;01m{\u001B[39;00mnaive_bayes\u001B[38;5;241m.\u001B[39m\u001B[38;5;18m__name__\u001B[39m\u001B[38;5;132;01m}\u001B[39;00m\u001B[38;5;124m): \u001B[39m\u001B[38;5;132;01m{\u001B[39;00mclassifier_nb\u001B[38;5;241m.\u001B[39mscore(X_val, y_val) \u001B[38;5;241m*\u001B[39m \u001B[38;5;241m100\u001B[39m\u001B[38;5;132;01m:\u001B[39;00m\u001B[38;5;124m.2f\u001B[39m\u001B[38;5;132;01m}\u001B[39;00m\u001B[38;5;124m\"\u001B[39m)\n\u001B[0;32m----> 9\u001B[0m \u001B[38;5;28mprint\u001B[39m(\u001B[38;5;124mf\u001B[39m\u001B[38;5;124m\"\u001B[39m\u001B[38;5;124mTest Accuracy (\u001B[39m\u001B[38;5;132;01m{\u001B[39;00mnaive_bayes\u001B[38;5;241m.\u001B[39m\u001B[38;5;18m__name__\u001B[39m\u001B[38;5;132;01m}\u001B[39;00m\u001B[38;5;124m): \u001B[39m\u001B[38;5;132;01m{\u001B[39;00mclassifier_nb\u001B[38;5;241m.\u001B[39mscore(X_test, y_test) \u001B[38;5;241m*\u001B[39m \u001B[38;5;241m100\u001B[39m\u001B[38;5;132;01m:\u001B[39;00m\u001B[38;5;124m.2f\u001B[39m\u001B[38;5;132;01m}\u001B[39;00m\u001B[38;5;124m\"\u001B[39m)\n",
      "File \u001B[0;32m~/miniconda3/envs/tf/lib/python3.9/site-packages/sklearn/base.py:666\u001B[0m, in \u001B[0;36mClassifierMixin.score\u001B[0;34m(self, X, y, sample_weight)\u001B[0m\n\u001B[1;32m    641\u001B[0m \u001B[38;5;124;03m\"\"\"\u001B[39;00m\n\u001B[1;32m    642\u001B[0m \u001B[38;5;124;03mReturn the mean accuracy on the given test data and labels.\u001B[39;00m\n\u001B[1;32m    643\u001B[0m \n\u001B[0;32m   (...)\u001B[0m\n\u001B[1;32m    662\u001B[0m \u001B[38;5;124;03m    Mean accuracy of ``self.predict(X)`` wrt. `y`.\u001B[39;00m\n\u001B[1;32m    663\u001B[0m \u001B[38;5;124;03m\"\"\"\u001B[39;00m\n\u001B[1;32m    664\u001B[0m \u001B[38;5;28;01mfrom\u001B[39;00m \u001B[38;5;21;01m.\u001B[39;00m\u001B[38;5;21;01mmetrics\u001B[39;00m \u001B[38;5;28;01mimport\u001B[39;00m accuracy_score\n\u001B[0;32m--> 666\u001B[0m \u001B[38;5;28;01mreturn\u001B[39;00m accuracy_score(y, \u001B[38;5;28;43mself\u001B[39;49m\u001B[38;5;241;43m.\u001B[39;49m\u001B[43mpredict\u001B[49m\u001B[43m(\u001B[49m\u001B[43mX\u001B[49m\u001B[43m)\u001B[49m, sample_weight\u001B[38;5;241m=\u001B[39msample_weight)\n",
      "File \u001B[0;32m~/miniconda3/envs/tf/lib/python3.9/site-packages/sklearn/naive_bayes.py:81\u001B[0m, in \u001B[0;36m_BaseNB.predict\u001B[0;34m(self, X)\u001B[0m\n\u001B[1;32m     79\u001B[0m check_is_fitted(\u001B[38;5;28mself\u001B[39m)\n\u001B[1;32m     80\u001B[0m X \u001B[38;5;241m=\u001B[39m \u001B[38;5;28mself\u001B[39m\u001B[38;5;241m.\u001B[39m_check_X(X)\n\u001B[0;32m---> 81\u001B[0m jll \u001B[38;5;241m=\u001B[39m \u001B[38;5;28;43mself\u001B[39;49m\u001B[38;5;241;43m.\u001B[39;49m\u001B[43m_joint_log_likelihood\u001B[49m\u001B[43m(\u001B[49m\u001B[43mX\u001B[49m\u001B[43m)\u001B[49m\n\u001B[1;32m     82\u001B[0m \u001B[38;5;28;01mreturn\u001B[39;00m \u001B[38;5;28mself\u001B[39m\u001B[38;5;241m.\u001B[39mclasses_[np\u001B[38;5;241m.\u001B[39margmax(jll, axis\u001B[38;5;241m=\u001B[39m\u001B[38;5;241m1\u001B[39m)]\n",
      "File \u001B[0;32m~/miniconda3/envs/tf/lib/python3.9/site-packages/sklearn/naive_bayes.py:1425\u001B[0m, in \u001B[0;36mCategoricalNB._joint_log_likelihood\u001B[0;34m(self, X)\u001B[0m\n\u001B[1;32m   1423\u001B[0m \u001B[38;5;28;01mfor\u001B[39;00m i \u001B[38;5;129;01min\u001B[39;00m \u001B[38;5;28mrange\u001B[39m(\u001B[38;5;28mself\u001B[39m\u001B[38;5;241m.\u001B[39mn_features_in_):\n\u001B[1;32m   1424\u001B[0m     indices \u001B[38;5;241m=\u001B[39m X[:, i]\n\u001B[0;32m-> 1425\u001B[0m     jll \u001B[38;5;241m+\u001B[39m\u001B[38;5;241m=\u001B[39m \u001B[38;5;28;43mself\u001B[39;49m\u001B[38;5;241;43m.\u001B[39;49m\u001B[43mfeature_log_prob_\u001B[49m\u001B[43m[\u001B[49m\u001B[43mi\u001B[49m\u001B[43m]\u001B[49m\u001B[43m[\u001B[49m\u001B[43m:\u001B[49m\u001B[43m,\u001B[49m\u001B[43m \u001B[49m\u001B[43mindices\u001B[49m\u001B[43m]\u001B[49m\u001B[38;5;241m.\u001B[39mT\n\u001B[1;32m   1426\u001B[0m total_ll \u001B[38;5;241m=\u001B[39m jll \u001B[38;5;241m+\u001B[39m \u001B[38;5;28mself\u001B[39m\u001B[38;5;241m.\u001B[39mclass_log_prior_\n\u001B[1;32m   1427\u001B[0m \u001B[38;5;28;01mreturn\u001B[39;00m total_ll\n",
      "\u001B[0;31mIndexError\u001B[0m: index 1 is out of bounds for axis 1 with size 1"
     ]
    }
   ],
   "source": [
    "# https://scikit-learn.org/stable/modules/naive_bayes.html\n",
    "\n",
    "from sklearn.naive_bayes import GaussianNB, MultinomialNB, ComplementNB, BernoulliNB, CategoricalNB\n",
    "for naive_bayes in [GaussianNB, MultinomialNB, ComplementNB, BernoulliNB, CategoricalNB]:\n",
    "    classifier_nb = naive_bayes()\n",
    "    classifier_nb.fit(X_train, y_train)\n",
    "    print(f\"Train Accuracy ({naive_bayes.__name__}): {classifier_nb.score(X_train, y_train) * 100:.2f}\")\n",
    "    print(f\"Validation Accuracy ({naive_bayes.__name__}): {classifier_nb.score(X_val, y_val) * 100:.2f}\")\n",
    "    print(f\"Test Accuracy ({naive_bayes.__name__}): {classifier_nb.score(X_test, y_test) * 100:.2f}\")"
   ],
   "metadata": {
    "collapsed": false
   }
  },
  {
   "cell_type": "markdown",
   "source": [
    "## KNN Classifier"
   ],
   "metadata": {
    "collapsed": false
   }
  },
  {
   "cell_type": "code",
   "execution_count": 43,
   "outputs": [
    {
     "name": "stdout",
     "output_type": "stream",
     "text": [
      "Train Accuracy: 86.92\n",
      "Validation Accuracy: 65.13\n",
      "Test Accuracy: 66.78\n"
     ]
    }
   ],
   "source": [
    "from sklearn.neighbors import KNeighborsClassifier\n",
    "classifier_knn = KNeighborsClassifier()\n",
    "classifier_knn.fit(X_train, y_train)\n",
    "print(f\"Train Accuracy: {classifier_knn.score(X_train, y_train) * 100:.2f}\")\n",
    "print(f\"Validation Accuracy: {classifier_knn.score(X_val, y_val) * 100:.2f}\")\n",
    "print(f\"Test Accuracy: {classifier_knn.score(X_test, y_test) * 100:.2f}\")"
   ],
   "metadata": {
    "collapsed": false
   }
  },
  {
   "cell_type": "markdown",
   "source": [
    "## Random Forest"
   ],
   "metadata": {
    "collapsed": false
   }
  },
  {
   "cell_type": "code",
   "execution_count": 44,
   "outputs": [
    {
     "name": "stdout",
     "output_type": "stream",
     "text": [
      "Train Accuracy: 100.00\n",
      "Validation Accuracy: 99.34\n",
      "Test Accuracy: 82.17\n"
     ]
    }
   ],
   "source": [
    "from sklearn.ensemble import RandomForestClassifier\n",
    "classifier_forest = RandomForestClassifier(max_depth=32, random_state=RANDOM_STATE)\n",
    "classifier_forest.fit(X_train, y_train)\n",
    "print(f\"Train Accuracy: {classifier_forest.score(X_train, y_train) * 100:.2f}\")\n",
    "print(f\"Validation Accuracy: {classifier_forest.score(X_val, y_val) * 100:.2f}\")\n",
    "print(f\"Test Accuracy: {classifier_forest.score(X_test, y_test) * 100:.2f}\")"
   ],
   "metadata": {
    "collapsed": false
   }
  },
  {
   "cell_type": "markdown",
   "source": [
    "## Adaboost Trees"
   ],
   "metadata": {
    "collapsed": false
   }
  },
  {
   "cell_type": "code",
   "execution_count": 45,
   "outputs": [
    {
     "name": "stdout",
     "output_type": "stream",
     "text": [
      "Train Accuracy: 75.74\n",
      "Validation Accuracy: 72.04\n",
      "Test Accuracy: 25.66\n"
     ]
    }
   ],
   "source": [
    "from sklearn.ensemble import AdaBoostClassifier\n",
    "classifier_adaboost = AdaBoostClassifier(random_state=RANDOM_STATE)\n",
    "classifier_adaboost.fit(X_train, y_train)\n",
    "print(f\"Train Accuracy: {classifier_adaboost.score(X_train, y_train) * 100:.2f}\")\n",
    "print(f\"Validation Accuracy: {classifier_adaboost.score(X_val, y_val) * 100:.2f}\")\n",
    "print(f\"Test Accuracy: {classifier_adaboost.score(X_test, y_test) * 100:.2f}\")"
   ],
   "metadata": {
    "collapsed": false
   }
  },
  {
   "cell_type": "markdown",
   "source": [
    "## SVM"
   ],
   "metadata": {
    "collapsed": false
   }
  },
  {
   "cell_type": "code",
   "execution_count": 46,
   "outputs": [
    {
     "name": "stdout",
     "output_type": "stream",
     "text": [
      "Train Accuracy: 99.92\n",
      "Validation Accuracy: 95.39\n",
      "Test Accuracy: 79.67\n"
     ]
    }
   ],
   "source": [
    "from sklearn.pipeline import make_pipeline\n",
    "from sklearn.preprocessing import StandardScaler\n",
    "from sklearn.svm import SVC\n",
    "\n",
    "classifier_svm = make_pipeline(StandardScaler(), SVC(gamma='auto'))\n",
    "classifier_svm.fit(X_train, y_train)\n",
    "print(f\"Train Accuracy: {classifier_svm.score(X_train, y_train) * 100:.2f}\")\n",
    "print(f\"Validation Accuracy: {classifier_svm.score(X_val, y_val) * 100:.2f}\")\n",
    "print(f\"Test Accuracy: {classifier_svm.score(X_test, y_test) * 100:.2f}\")"
   ],
   "metadata": {
    "collapsed": false
   }
  },
  {
   "cell_type": "markdown",
   "source": [
    "## RNN"
   ],
   "metadata": {
    "collapsed": false
   }
  },
  {
   "cell_type": "code",
   "execution_count": 46,
   "outputs": [],
   "source": [],
   "metadata": {
    "collapsed": false
   }
  },
  {
   "cell_type": "markdown",
   "source": [
    "## LSTM"
   ],
   "metadata": {
    "collapsed": false
   }
  },
  {
   "cell_type": "code",
   "execution_count": 46,
   "outputs": [],
   "source": [],
   "metadata": {
    "collapsed": false
   }
  },
  {
   "cell_type": "markdown",
   "source": [
    "## GRUs"
   ],
   "metadata": {
    "collapsed": false
   }
  },
  {
   "cell_type": "code",
   "execution_count": 46,
   "outputs": [],
   "source": [],
   "metadata": {
    "collapsed": false
   }
  }
 ],
 "metadata": {
  "kernelspec": {
   "display_name": "Python 3",
   "language": "python",
   "name": "python3"
  },
  "language_info": {
   "codemirror_mode": {
    "name": "ipython",
    "version": 2
   },
   "file_extension": ".py",
   "mimetype": "text/x-python",
   "name": "python",
   "nbconvert_exporter": "python",
   "pygments_lexer": "ipython2",
   "version": "2.7.6"
  }
 },
 "nbformat": 4,
 "nbformat_minor": 0
}
